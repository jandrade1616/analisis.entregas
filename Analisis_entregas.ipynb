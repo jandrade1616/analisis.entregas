{
 "cells": [
  {
   "cell_type": "markdown",
   "id": "mhIvmmkW414q",
   "metadata": {
    "id": "mhIvmmkW414q"
   },
   "source": [
    "# Introducción\n",
    "\n",
    "Instacart es una plataforma de entregas de comestibles donde la clientela puede registrar un pedido y hacer que se lo entreguen, similar a Uber Eats y Door Dash.\n",
    "El conjunto de datos que te hemos proporcionado tiene modificaciones del original. Redujimos el tamaño del conjunto para que tus cálculos se hicieran más rápido e introdujimos valores ausentes y duplicados. Tuvimos cuidado de conservar las distribuciones de los datos originales cuando hicimos los cambios.\n",
    "\n",
    "Debes completar tres pasos. Para cada uno de ellos, escribe una breve introducción que refleje con claridad cómo pretendes resolver cada paso, y escribe párrafos explicatorios que justifiquen tus decisiones al tiempo que avanzas en tu solución.  También escribe una conclusión que resuma tus hallazgos y elecciones.\n"
   ]
  },
  {
   "cell_type": "markdown",
   "id": "3MbyzpOQZ5Or",
   "metadata": {
    "id": "3MbyzpOQZ5Or"
   },
   "source": [
    "## Diccionario de datos\n",
    "\n",
    "Hay cinco tablas en el conjunto de datos, y tendrás que usarlas todas para hacer el preprocesamiento de datos y el análisis exploratorio de datos. A continuación se muestra un diccionario de datos que enumera las columnas de cada tabla y describe los datos que contienen.\n",
    "\n",
    "- `instacart_orders.csv`: cada fila corresponde a un pedido en la aplicación Instacart.\n",
    "    - `'order_id'`: número de ID que identifica de manera única cada pedido.\n",
    "    - `'user_id'`: número de ID que identifica de manera única la cuenta de cada cliente.\n",
    "    - `'order_number'`: el número de veces que este cliente ha hecho un pedido.\n",
    "    - `'order_dow'`: día de la semana en que se hizo el pedido (0 si es domingo).\n",
    "    - `'order_hour_of_day'`: hora del día en que se hizo el pedido.\n",
    "    - `'days_since_prior_order'`: número de días transcurridos desde que este cliente hizo su pedido anterior.\n",
    "- `products.csv`: cada fila corresponde a un producto único que pueden comprar los clientes.\n",
    "    - `'product_id'`: número ID que identifica de manera única cada producto.\n",
    "    - `'product_name'`: nombre del producto.\n",
    "    - `'aisle_id'`: número ID que identifica de manera única cada categoría de pasillo de víveres.\n",
    "    - `'department_id'`: número ID que identifica de manera única cada departamento de víveres.\n",
    "- `order_products.csv`: cada fila corresponde a un artículo pedido en un pedido.\n",
    "    - `'order_id'`: número de ID que identifica de manera única cada pedido.\n",
    "    - `'product_id'`: número ID que identifica de manera única cada producto.\n",
    "    - `'add_to_cart_order'`: el orden secuencial en el que se añadió cada artículo en el carrito.\n",
    "    - `'reordered'`: 0 si el cliente nunca ha pedido este producto antes, 1 si lo ha pedido.\n",
    "- `aisles.csv`\n",
    "    - `'aisle_id'`: número ID que identifica de manera única cada categoría de pasillo de víveres.\n",
    "    - `'aisle'`: nombre del pasillo.\n",
    "- `departments.csv`\n",
    "    - `'department_id'`: número ID que identifica de manera única cada departamento de víveres.\n",
    "    - `'department'`: nombre del departamento."
   ]
  },
  {
   "cell_type": "markdown",
   "id": "n3Ha_cNSZ8lK",
   "metadata": {
    "id": "n3Ha_cNSZ8lK"
   },
   "source": [
    "# Paso 1. Descripción de los datos\n",
    "\n",
    "Lee los archivos de datos (`/datasets/instacart_orders.csv`, `/datasets/products.csv`, `/datasets/aisles.csv`, `/datasets/departments.csv` y `/datasets/order_products.csv`) con `pd.read_csv()` usando los parámetros adecuados para leer los datos correctamente. Verifica la información para cada DataFrame creado.\n"
   ]
  },
  {
   "cell_type": "markdown",
   "id": "OmlQPLlyaAfR",
   "metadata": {
    "id": "OmlQPLlyaAfR"
   },
   "source": [
    "## Plan de solución\n",
    "\n",
    "Escribe aquí tu plan de solución para el Paso 1. Descripción de los datos.\n",
    "Lo que hay que hacer es importar todos los archivos necesarios para posteriormente leer su información con el método .info() para poder ver la información general de cada uno de los archivos, como es la clase a la que pertenece, el nombre de las columnas, la cantidad de datos que tienen, etc."
   ]
  },
  {
   "cell_type": "code",
   "execution_count": 1,
   "id": "fbf1adab",
   "metadata": {
    "id": "fbf1adab"
   },
   "outputs": [],
   "source": [
    "import pandas as pd # importar librerías\n"
   ]
  },
  {
   "cell_type": "code",
   "execution_count": 2,
   "id": "ad36396d",
   "metadata": {
    "id": "ad36396d"
   },
   "outputs": [],
   "source": [
    "# leer conjuntos de datos en los DataFrames\n",
    "df_orders = pd.read_csv('/datasets/instacart_orders.csv', delimiter=';')\n",
    "df_products = pd.read_csv('/datasets/products.csv', delimiter=';')\n",
    "df_aisles = pd.read_csv('/datasets/aisles.csv', delimiter=';')\n",
    "df_departments = pd.read_csv('/datasets/departments.csv', delimiter=';')\n",
    "df_order_products = pd.read_csv('/datasets/order_products.csv', delimiter=';')"
   ]
  },
  {
   "cell_type": "code",
   "execution_count": 3,
   "id": "ad6a1efa",
   "metadata": {
    "id": "ad6a1efa"
   },
   "outputs": [
    {
     "name": "stdout",
     "output_type": "stream",
     "text": [
      "<class 'pandas.core.frame.DataFrame'>\n",
      "RangeIndex: 478967 entries, 0 to 478966\n",
      "Data columns (total 6 columns):\n",
      " #   Column                  Non-Null Count   Dtype  \n",
      "---  ------                  --------------   -----  \n",
      " 0   order_id                478967 non-null  int64  \n",
      " 1   user_id                 478967 non-null  int64  \n",
      " 2   order_number            478967 non-null  int64  \n",
      " 3   order_dow               478967 non-null  int64  \n",
      " 4   order_hour_of_day       478967 non-null  int64  \n",
      " 5   days_since_prior_order  450148 non-null  float64\n",
      "dtypes: float64(1), int64(5)\n",
      "memory usage: 21.9 MB\n",
      "None\n"
     ]
    }
   ],
   "source": [
    "print(df_orders.info())# mostrar información del DataFrame"
   ]
  },
  {
   "cell_type": "code",
   "execution_count": 4,
   "id": "5130e05e",
   "metadata": {
    "id": "5130e05e"
   },
   "outputs": [
    {
     "name": "stdout",
     "output_type": "stream",
     "text": [
      "<class 'pandas.core.frame.DataFrame'>\n",
      "RangeIndex: 49694 entries, 0 to 49693\n",
      "Data columns (total 4 columns):\n",
      " #   Column         Non-Null Count  Dtype \n",
      "---  ------         --------------  ----- \n",
      " 0   product_id     49694 non-null  int64 \n",
      " 1   product_name   48436 non-null  object\n",
      " 2   aisle_id       49694 non-null  int64 \n",
      " 3   department_id  49694 non-null  int64 \n",
      "dtypes: int64(3), object(1)\n",
      "memory usage: 1.5+ MB\n",
      "None\n"
     ]
    }
   ],
   "source": [
    "print(df_products.info())# mostrar información del DataFrame"
   ]
  },
  {
   "cell_type": "code",
   "execution_count": 5,
   "id": "d8370c05",
   "metadata": {
    "id": "d8370c05"
   },
   "outputs": [
    {
     "name": "stdout",
     "output_type": "stream",
     "text": [
      "<class 'pandas.core.frame.DataFrame'>\n",
      "RangeIndex: 134 entries, 0 to 133\n",
      "Data columns (total 2 columns):\n",
      " #   Column    Non-Null Count  Dtype \n",
      "---  ------    --------------  ----- \n",
      " 0   aisle_id  134 non-null    int64 \n",
      " 1   aisle     134 non-null    object\n",
      "dtypes: int64(1), object(1)\n",
      "memory usage: 2.2+ KB\n",
      "None\n"
     ]
    }
   ],
   "source": [
    "print(df_aisles.info())# mostrar información del DataFrame"
   ]
  },
  {
   "cell_type": "code",
   "execution_count": 6,
   "id": "59e2090f",
   "metadata": {
    "id": "59e2090f"
   },
   "outputs": [
    {
     "name": "stdout",
     "output_type": "stream",
     "text": [
      "<class 'pandas.core.frame.DataFrame'>\n",
      "RangeIndex: 21 entries, 0 to 20\n",
      "Data columns (total 2 columns):\n",
      " #   Column         Non-Null Count  Dtype \n",
      "---  ------         --------------  ----- \n",
      " 0   department_id  21 non-null     int64 \n",
      " 1   department     21 non-null     object\n",
      "dtypes: int64(1), object(1)\n",
      "memory usage: 464.0+ bytes\n",
      "None\n"
     ]
    }
   ],
   "source": [
    "print(df_departments.info())# mostrar información del DataFrame"
   ]
  },
  {
   "cell_type": "code",
   "execution_count": 7,
   "id": "6fc81694",
   "metadata": {
    "id": "6fc81694"
   },
   "outputs": [
    {
     "name": "stdout",
     "output_type": "stream",
     "text": [
      "<class 'pandas.core.frame.DataFrame'>\n",
      "RangeIndex: 4545007 entries, 0 to 4545006\n",
      "Data columns (total 4 columns):\n",
      " #   Column             Dtype  \n",
      "---  ------             -----  \n",
      " 0   order_id           int64  \n",
      " 1   product_id         int64  \n",
      " 2   add_to_cart_order  float64\n",
      " 3   reordered          int64  \n",
      "dtypes: float64(1), int64(3)\n",
      "memory usage: 138.7 MB\n",
      "None\n"
     ]
    }
   ],
   "source": [
    "print(df_order_products.info())# mostrar información del DataFrame"
   ]
  },
  {
   "cell_type": "markdown",
   "id": "t75BD19oaR5f",
   "metadata": {
    "id": "t75BD19oaR5f"
   },
   "source": [
    "## Conclusiones\n",
    "\n",
    "Escribe aquí tus conclusiones intermedias sobre el Paso 1. Descripción de los datos.\n",
    "Se pudo exportar de manera correcta los 5 archivos y confirmar que todas las columnas que se encuentran en el diccionario proporcionado se encuentran en cada uno de los archivos, de igual manera pudimos confirmar que la class de los 5 archivos es la misma y visualizar la cantidad de entradas que tiene cada uno de los archivos, donde el mayor es él (/datasets/instacart_orders.csv.\n"
   ]
  },
  {
   "cell_type": "markdown",
   "id": "8RJHqxVmaVsF",
   "metadata": {
    "id": "8RJHqxVmaVsF"
   },
   "source": [
    "# Paso 2. Preprocesamiento de los datos\n",
    "\n",
    "Preprocesa los datos de la siguiente manera:\n",
    "\n",
    "- Verifica y corrige los tipos de datos (por ejemplo, asegúrate de que las columnas de ID sean números enteros).\n",
    "- Identifica y completa los valores ausentes.\n",
    "- Identifica y elimina los valores duplicados.\n",
    "\n",
    "Asegúrate de explicar qué tipos de valores ausentes y duplicados encontraste, cómo los completaste o eliminaste y por qué usaste esos métodos. ¿Por qué crees que estos valores ausentes y duplicados pueden haber estado presentes en el conjunto de datos?"
   ]
  },
  {
   "cell_type": "markdown",
   "id": "p6poABZQaZYb",
   "metadata": {
    "id": "p6poABZQaZYb"
   },
   "source": [
    "## Plan de solución\n",
    "\n",
    "Escribe aquí tu plan para el Paso 2. Preprocesamiento de los datos.\n",
    "Lo primero es ver la cantidad de ordenes repetidas y cuales son las caracteristicas de las ordenes que se repitan, una vez se identifiquen hay que eliminarlas y confirmar que estan se ecuentren eliminadas, para esto usaremos los metodos .duplicated, .shape y .drop_duplicate."
   ]
  },
  {
   "cell_type": "markdown",
   "id": "07357848-dc64-4156-9cc3-01ff4365226d",
   "metadata": {
    "id": "07357848-dc64-4156-9cc3-01ff4365226d"
   },
   "source": [
    "## Encuentra y elimina los valores duplicados (y describe cómo tomaste tus decisiones)."
   ]
  },
  {
   "cell_type": "markdown",
   "id": "f179f0a9",
   "metadata": {
    "id": "f179f0a9"
   },
   "source": [
    "### `instacart_orders` data frame"
   ]
  },
  {
   "cell_type": "code",
   "execution_count": 8,
   "id": "b99297a5-405a-463d-8535-9adc3da4ad74",
   "metadata": {
    "id": "b99297a5-405a-463d-8535-9adc3da4ad74"
   },
   "outputs": [
    {
     "name": "stdout",
     "output_type": "stream",
     "text": [
      "        order_id  user_id  order_number  order_dow  order_hour_of_day  \\\n",
      "30371    1918001   188546            14          3                  2   \n",
      "99462     794638    50898            24          3                  2   \n",
      "119251    408114    68324             4          3                  2   \n",
      "142258   2845099    31189            11          3                  2   \n",
      "145574    794638    50898            24          3                  2   \n",
      "164581   1112182   202304            84          3                  2   \n",
      "200059   1782114   106752             1          3                  2   \n",
      "204042   2125197    14050            48          3                  2   \n",
      "215294   2160484   107525            16          3                  2   \n",
      "223105   2160484   107525            16          3                  2   \n",
      "230807   1918001   188546            14          3                  2   \n",
      "242618   1021560    53767             3          3                  2   \n",
      "250626    467134    63189            21          3                  2   \n",
      "257934   1919531   191501            32          3                  2   \n",
      "259636   2282673    86751            49          3                  2   \n",
      "266232   1782114   106752             1          3                  2   \n",
      "273805   1112182   202304            84          3                  2   \n",
      "284038   2845099    31189            11          3                  2   \n",
      "311713   1021560    53767             3          3                  2   \n",
      "314427   1286742   183220            48          3                  2   \n",
      "321100    408114    68324             4          3                  2   \n",
      "323900   1919531   191501            32          3                  2   \n",
      "324868   2232988    82565             1          3                  2   \n",
      "345917   2232988    82565             1          3                  2   \n",
      "354993    391768    57671            19          3                  2   \n",
      "371905    391768    57671            19          3                  2   \n",
      "394347    467134    63189            21          3                  2   \n",
      "411408   1286742   183220            48          3                  2   \n",
      "415163   2282673    86751            49          3                  2   \n",
      "441599   2125197    14050            48          3                  2   \n",
      "\n",
      "        days_since_prior_order  \n",
      "30371                     16.0  \n",
      "99462                      2.0  \n",
      "119251                    18.0  \n",
      "142258                     7.0  \n",
      "145574                     2.0  \n",
      "164581                     6.0  \n",
      "200059                     NaN  \n",
      "204042                     3.0  \n",
      "215294                    30.0  \n",
      "223105                    30.0  \n",
      "230807                    16.0  \n",
      "242618                     9.0  \n",
      "250626                     2.0  \n",
      "257934                     7.0  \n",
      "259636                     2.0  \n",
      "266232                     NaN  \n",
      "273805                     6.0  \n",
      "284038                     7.0  \n",
      "311713                     9.0  \n",
      "314427                     4.0  \n",
      "321100                    18.0  \n",
      "323900                     7.0  \n",
      "324868                     NaN  \n",
      "345917                     NaN  \n",
      "354993                    10.0  \n",
      "371905                    10.0  \n",
      "394347                     2.0  \n",
      "411408                     4.0  \n",
      "415163                     2.0  \n",
      "441599                     3.0  \n",
      "Number of duplicated orders: 30\n"
     ]
    }
   ],
   "source": [
    "# Revisa si hay pedidos duplicados\n",
    "import pandas as pd\n",
    "\n",
    "duplicated_orders = df_orders[df_orders.duplicated(subset='order_id', keep=False)]\n",
    "print(duplicated_orders)\n",
    "print(f\"Number of duplicated orders: {duplicated_orders.shape[0]}\")"
   ]
  },
  {
   "cell_type": "markdown",
   "id": "PEkwUX_gvt5A",
   "metadata": {
    "id": "PEkwUX_gvt5A"
   },
   "source": [
    "¿Tienes líneas duplicadas? Si sí, ¿qué tienen en común?\n",
    "                             \n",
    "Si hay pedidos duplicados y todos los pedidos son del mismo dia y hora."
   ]
  },
  {
   "cell_type": "code",
   "execution_count": 9,
   "id": "0d44de5d",
   "metadata": {
    "id": "0d44de5d"
   },
   "outputs": [
    {
     "name": "stdout",
     "output_type": "stream",
     "text": [
      "        order_id  user_id  order_number  order_dow  order_hour_of_day  \\\n",
      "4838     2766110   162084            41          3                  2   \n",
      "5156     2190225   138285            18          3                  2   \n",
      "15506     553049    58599            13          3                  2   \n",
      "18420     382357   120200            19          3                  2   \n",
      "24691     690242    77357             2          3                  2   \n",
      "...          ...      ...           ...        ...                ...   \n",
      "457013   3384021    14881             6          3                  2   \n",
      "458816    910166   164782            18          3                  2   \n",
      "459635   1680532   106435             6          3                  2   \n",
      "468324    222962    54979            59          3                  2   \n",
      "477526   2592344    46860            38          3                  2   \n",
      "\n",
      "        days_since_prior_order  \n",
      "4838                      16.0  \n",
      "5156                      11.0  \n",
      "15506                      7.0  \n",
      "18420                     11.0  \n",
      "24691                      9.0  \n",
      "...                        ...  \n",
      "457013                    30.0  \n",
      "458816                     4.0  \n",
      "459635                    21.0  \n",
      "468324                     3.0  \n",
      "477526                     3.0  \n",
      "\n",
      "[121 rows x 6 columns]\n"
     ]
    }
   ],
   "source": [
    "# Basándote en tus hallazgos,\n",
    "# Verifica todos los pedidos que se hicieron el miércoles a las 2:00 a.m.\n",
    "wednesday_orders_2am = df_orders[(df_orders['order_dow'] ==3) & (df_orders['order_hour_of_day']==2)]\n",
    "print (wednesday_orders_2am)"
   ]
  },
  {
   "cell_type": "markdown",
   "id": "vu2OWyoqwOx5",
   "metadata": {
    "id": "vu2OWyoqwOx5"
   },
   "source": [
    "¿Qué sugiere este resultado?\n",
    "\n",
    "Los resultados no sugieren una tendencia repetitiva ya que hay una gran cantidad y variedad de ovariables pero lo que podemos hacer es iliminar los datos repetidos ya que puedo haber sido un erro"
   ]
  },
  {
   "cell_type": "code",
   "execution_count": 10,
   "id": "480563c7",
   "metadata": {
    "id": "480563c7"
   },
   "outputs": [
    {
     "name": "stdout",
     "output_type": "stream",
     "text": [
      "   order_id  user_id  order_number  order_dow  order_hour_of_day  \\\n",
      "0   1515936   183418            11          6                 13   \n",
      "1   1690866   163593             5          5                 12   \n",
      "2   1454967    39980             4          5                 19   \n",
      "3   1768857    82516            56          0                 20   \n",
      "4   3007858   196724             2          4                 12   \n",
      "\n",
      "   days_since_prior_order  \n",
      "0                    30.0  \n",
      "1                     9.0  \n",
      "2                     2.0  \n",
      "3                    10.0  \n",
      "4                    17.0  \n"
     ]
    }
   ],
   "source": [
    "# Elimina los pedidos duplicados\n",
    "import pandas as pd\n",
    "\n",
    "df_orders_unique = df_orders.drop_duplicates(subset='order_id', keep='first')\n",
    "print(df_orders_unique.head())"
   ]
  },
  {
   "cell_type": "code",
   "execution_count": 11,
   "id": "0b2396a2",
   "metadata": {
    "id": "0b2396a2"
   },
   "outputs": [
    {
     "name": "stdout",
     "output_type": "stream",
     "text": [
      "Pedidos duplicados después de la limpieza:\n",
      "Empty DataFrame\n",
      "Columns: [order_id, user_id, order_number, order_dow, order_hour_of_day, days_since_prior_order]\n",
      "Index: []\n",
      "Número de pedidos duplicados restantes: 0\n"
     ]
    }
   ],
   "source": [
    "# Vuelve a verificar si hay filas duplicadas\n",
    "duplicated_orders = df_orders_unique[df_orders_unique.duplicated(subset='order_id', keep=False)]\n",
    "print(\"Pedidos duplicados después de la limpieza:\")\n",
    "print(duplicated_orders)\n",
    "print(f\"Número de pedidos duplicados restantes: {duplicated_orders.shape[0]}\")"
   ]
  },
  {
   "cell_type": "code",
   "execution_count": 12,
   "id": "f6113ef1",
   "metadata": {
    "id": "f6113ef1"
   },
   "outputs": [
    {
     "name": "stdout",
     "output_type": "stream",
     "text": [
      "Número de pedidos duplicados restantes: 0\n"
     ]
    }
   ],
   "source": [
    "# Vuelve a verificar únicamente si hay IDs duplicados de pedidos\n",
    "print(f\"Número de pedidos duplicados restantes: {duplicated_orders.shape[0]}\")"
   ]
  },
  {
   "cell_type": "markdown",
   "id": "5e8905ae",
   "metadata": {
    "id": "5e8905ae"
   },
   "source": [
    "Describe brevemente tus hallazgos y lo que hiciste con ellos\n",
    "Encontramos que habian 30 ordenes repetidas las cuales todos pertencian al miercoles a las 2am y eliminamos los datos repetidos."
   ]
  },
  {
   "cell_type": "markdown",
   "id": "45e6bc46",
   "metadata": {
    "id": "45e6bc46"
   },
   "source": [
    "### `products` data frame"
   ]
  },
  {
   "cell_type": "code",
   "execution_count": 13,
   "id": "5f526b5b-8175-46fa-a0fd-441767d50e64",
   "metadata": {
    "id": "5f526b5b-8175-46fa-a0fd-441767d50e64"
   },
   "outputs": [
    {
     "name": "stdout",
     "output_type": "stream",
     "text": [
      "Número de filas totalmente duplicadas: 0\n"
     ]
    }
   ],
   "source": [
    "# Verifica si hay filas totalmente duplicadas\n",
    "duplicated_rows_products = df_products[df_products.duplicated(keep=False)]\n",
    "print(f\"Número de filas totalmente duplicadas: {duplicated_rows_products.shape[0]}\")"
   ]
  },
  {
   "cell_type": "code",
   "execution_count": 14,
   "id": "88daa4f4",
   "metadata": {
    "id": "88daa4f4"
   },
   "outputs": [
    {
     "name": "stdout",
     "output_type": "stream",
     "text": [
      "IDs de departamentos duplicados:\n",
      "       product_id                                       product_name  \\\n",
      "0               1                         Chocolate Sandwich Cookies   \n",
      "1               2                                   All-Seasons Salt   \n",
      "2               3               Robust Golden Unsweetened Oolong Tea   \n",
      "3               4  Smart Ones Classic Favorites Mini Rigatoni Wit...   \n",
      "4               5                          Green Chile Anytime Sauce   \n",
      "...           ...                                                ...   \n",
      "49689       49690                      HIGH PERFORMANCE ENERGY DRINK   \n",
      "49690       49691                      ORIGINAL PANCAKE & WAFFLE MIX   \n",
      "49691       49692    ORGANIC INSTANT OATMEAL LIGHT MAPLE BROWN SUGAR   \n",
      "49692       49693                             SPRING WATER BODY WASH   \n",
      "49693       49694                            BURRITO- STEAK & CHEESE   \n",
      "\n",
      "       aisle_id  department_id  \n",
      "0            61             19  \n",
      "1           104             13  \n",
      "2            94              7  \n",
      "3            38              1  \n",
      "4             5             13  \n",
      "...         ...            ...  \n",
      "49689        64              7  \n",
      "49690       130             14  \n",
      "49691       130             14  \n",
      "49692       127             11  \n",
      "49693        38              1  \n",
      "\n",
      "[49694 rows x 4 columns]\n",
      "Número de IDs de departamentos duplicados: 49694\n"
     ]
    }
   ],
   "source": [
    "# Revisa únicamente si hay ID de departamentos duplicados\n",
    "df_products = pd.read_csv('/datasets/products.csv', delimiter=';')\n",
    "duplicated_dept_ids = df_products[df_products.duplicated(subset='department_id', keep=False)]\n",
    "\n",
    "print(\"IDs de departamentos duplicados:\")\n",
    "print(duplicated_dept_ids)\n",
    "\n",
    "print(f\"Número de IDs de departamentos duplicados: {duplicated_dept_ids.shape[0]}\")\n"
   ]
  },
  {
   "cell_type": "code",
   "execution_count": 15,
   "id": "c773f0bf",
   "metadata": {
    "id": "c773f0bf"
   },
   "outputs": [
    {
     "name": "stdout",
     "output_type": "stream",
     "text": [
      "Número de nombres de productos duplicados: 1465\n"
     ]
    }
   ],
   "source": [
    "# Revisa únicamente si hay nombres duplicados de productos (convierte los nombres a letras mayúsculas para compararlos mejor)\n",
    "df_products['product_name_upper'] = df_products['product_name'].str.upper()\n",
    "duplicated_product_names = df_products[df_products.duplicated(subset='product_name_upper', keep=False)]\n",
    "print(f\"Número de nombres de productos duplicados: {duplicated_product_names.shape[0]}\")\n"
   ]
  },
  {
   "cell_type": "code",
   "execution_count": 16,
   "id": "01efd02e",
   "metadata": {
    "id": "01efd02e"
   },
   "outputs": [
    {
     "name": "stdout",
     "output_type": "stream",
     "text": [
      "Número de nombres de productos duplicados (sin considerar faltantes): 207\n"
     ]
    }
   ],
   "source": [
    "# Revisa si hay nombres duplicados de productos no faltantes\n",
    "df_products_non_missing = df_products.dropna(subset=['product_name'])\n",
    "duplicated_product_names = df_products_non_missing[df_products_non_missing.duplicated(subset='product_name_upper', keep=False)]\n",
    "print(f\"Número de nombres de productos duplicados (sin considerar faltantes): {duplicated_product_names.shape[0]}\")"
   ]
  },
  {
   "cell_type": "markdown",
   "id": "9da8d293",
   "metadata": {
    "id": "9da8d293"
   },
   "source": [
    "Describe brevemente tus hallazgos y lo que hiciste con ellos.\n",
    "Se observo que no hay ninguna fila que este completamente reptida pero hay 207 nombres de productos que e repiten."
   ]
  },
  {
   "cell_type": "markdown",
   "id": "60f30db1",
   "metadata": {
    "id": "60f30db1"
   },
   "source": [
    "### `departments` data frame"
   ]
  },
  {
   "cell_type": "code",
   "execution_count": 17,
   "id": "fb410ad4-0fbf-4b80-bb09-23fdea79afe3",
   "metadata": {
    "id": "fb410ad4-0fbf-4b80-bb09-23fdea79afe3"
   },
   "outputs": [
    {
     "name": "stdout",
     "output_type": "stream",
     "text": [
      "Número de filas totalmente duplicadas: 0\n"
     ]
    }
   ],
   "source": [
    "# Revisa si hay filas totalmente duplicadas\n",
    "duplicated_rows_departments = df_departments[df_departments.duplicated(keep=False)]\n",
    "print(f\"Número de filas totalmente duplicadas: {duplicated_rows_departments.shape[0]}\")"
   ]
  },
  {
   "cell_type": "code",
   "execution_count": 18,
   "id": "332b12bb",
   "metadata": {
    "id": "332b12bb"
   },
   "outputs": [
    {
     "name": "stdout",
     "output_type": "stream",
     "text": [
      "Número de IDs de deparmentos duplicados: 0\n"
     ]
    }
   ],
   "source": [
    "# Revisa únicamente si hay IDs duplicadas de productos\n",
    "duplicated_department_ids = df_departments[df_departments.duplicated(subset='department_id', keep=False)]\n",
    "print(f\"Número de IDs de deparmentos duplicados: {duplicated_department_ids.shape[0]}\")\n"
   ]
  },
  {
   "cell_type": "markdown",
   "id": "bd30d78e",
   "metadata": {
    "id": "bd30d78e"
   },
   "source": [
    "Describe brevemente tus hallazgos y lo que hiciste con ellos.\n",
    "No hay ninguna valor duplicado en este archivo"
   ]
  },
  {
   "cell_type": "markdown",
   "id": "889349c1",
   "metadata": {
    "id": "889349c1"
   },
   "source": [
    "### `aisles` data frame"
   ]
  },
  {
   "cell_type": "code",
   "execution_count": 19,
   "id": "9da89fb9-4679-40f5-ad0d-c34df753a3f8",
   "metadata": {
    "id": "9da89fb9-4679-40f5-ad0d-c34df753a3f8"
   },
   "outputs": [
    {
     "name": "stdout",
     "output_type": "stream",
     "text": [
      "Número de filas totalmente duplicadas: 0\n"
     ]
    }
   ],
   "source": [
    "# Revisa si hay filas totalmente duplicadas\n",
    "duplicated_rows_aisles = df_aisles[df_aisles.duplicated(keep=False)]\n",
    "print(f\"Número de filas totalmente duplicadas: {duplicated_rows_aisles.shape[0]}\")"
   ]
  },
  {
   "cell_type": "code",
   "execution_count": 20,
   "id": "da7c2822",
   "metadata": {
    "id": "da7c2822"
   },
   "outputs": [
    {
     "name": "stdout",
     "output_type": "stream",
     "text": [
      "Número de IDs de productos duplicados: 0\n"
     ]
    }
   ],
   "source": [
    "# Revisa únicamente si hay IDs duplicadas de productos\n",
    "duplicated_aisle_ids = df_aisles[df_aisles.duplicated(subset='aisle_id', keep=False)]\n",
    "print(f\"Número de IDs de productos duplicados: {duplicated_aisle_ids.shape[0]}\")"
   ]
  },
  {
   "cell_type": "markdown",
   "id": "ac63826f",
   "metadata": {
    "id": "ac63826f"
   },
   "source": [
    "Describe brevemente tus hallazgos y lo que hiciste con ellos."
   ]
  },
  {
   "cell_type": "markdown",
   "id": "274cd06a",
   "metadata": {
    "id": "274cd06a"
   },
   "source": [
    "### `order_products` data frame"
   ]
  },
  {
   "cell_type": "code",
   "execution_count": 21,
   "id": "52326689-84a8-4b8f-a881-7c68780f62c9",
   "metadata": {
    "id": "52326689-84a8-4b8f-a881-7c68780f62c9"
   },
   "outputs": [
    {
     "name": "stdout",
     "output_type": "stream",
     "text": [
      "Número de filas totalmente duplicadas: 0\n"
     ]
    }
   ],
   "source": [
    "# Revisa si hay filas totalmente duplicadas\n",
    "duplicated_rows_order = df_order_products[df_order_products.duplicated(keep=False)]\n",
    "print(f\"Número de filas totalmente duplicadas: {duplicated_rows_order.shape[0]}\")"
   ]
  },
  {
   "cell_type": "code",
   "execution_count": 22,
   "id": "7b861391",
   "metadata": {
    "id": "7b861391"
   },
   "outputs": [
    {
     "name": "stdout",
     "output_type": "stream",
     "text": [
      "Número de IDs de productos duplicados: 4539960\n"
     ]
    }
   ],
   "source": [
    "# Vuelve a verificar si hay cualquier otro duplicado engañoso\n",
    "duplicated_order_ids = df_order_products[df_order_products.duplicated(subset='product_id', keep=False)]\n",
    "print(f\"Número de IDs de productos duplicados: {duplicated_order_ids.shape[0]}\")"
   ]
  },
  {
   "cell_type": "markdown",
   "id": "0b890492",
   "metadata": {
    "id": "0b890492"
   },
   "source": [
    "Describe brevemente tus hallazgos y lo que hiciste con ellos.\n",
    "No hay ninguna fila de productos duplicado en su totalidad pero hay algunas variables que se repiten pero esto es por el tipo de variables que se analizan estan pueder ser que se compran varias veces."
   ]
  },
  {
   "cell_type": "markdown",
   "id": "1e46de76",
   "metadata": {
    "id": "1e46de76"
   },
   "source": [
    "## Encuentra y elimina los valores ausentes\n",
    "\n",
    "Al trabajar con valores duplicados, pudimos observar que también nos falta investigar valores ausentes:\n",
    "\n",
    "* La columna `'product_name'` de la tabla products.\n",
    "* La columna `'days_since_prior_order'` de la tabla orders.\n",
    "* La columna `'add_to_cart_order'` de la tabla order_productos."
   ]
  },
  {
   "cell_type": "markdown",
   "id": "c0aebd78",
   "metadata": {
    "id": "c0aebd78"
   },
   "source": [
    "### `products` data frame"
   ]
  },
  {
   "cell_type": "code",
   "execution_count": 23,
   "id": "fe4a8b0f",
   "metadata": {
    "id": "fe4a8b0f"
   },
   "outputs": [
    {
     "name": "stdout",
     "output_type": "stream",
     "text": [
      "Número de valores ausentes en 'product_name': 1258\n"
     ]
    }
   ],
   "source": [
    "# Encuentra los valores ausentes en la columna 'product_name'\n",
    "missing_product_names = df_products[df_products['product_name'].isna()]\n",
    "print(f\"Número de valores ausentes en 'product_name': {missing_product_names.shape[0]}\")"
   ]
  },
  {
   "cell_type": "markdown",
   "id": "-A6x1AbJhjkp",
   "metadata": {
    "id": "-A6x1AbJhjkp"
   },
   "source": [
    "Describe brevemente cuáles son tus hallazgos.\n",
    "Hay 1258 valores ausentes en la columna product_name."
   ]
  },
  {
   "cell_type": "code",
   "execution_count": 24,
   "id": "e96167bc",
   "metadata": {
    "id": "e96167bc"
   },
   "outputs": [
    {
     "name": "stdout",
     "output_type": "stream",
     "text": [
      "¿Todos los nombres de productos ausentes están relacionados con el pasillo con ID 100? True\n"
     ]
    }
   ],
   "source": [
    "#  ¿Todos los nombres de productos ausentes están relacionados con el pasillo con ID 100?\n",
    "aisle_100_missing_product_names = missing_product_names[missing_product_names['aisle_id'] == 100]\n",
    "all_missing_related_to_aisle_100 = missing_product_names.shape[0] == aisle_100_missing_product_names.shape[0]\n",
    "print(f\"¿Todos los nombres de productos ausentes están relacionados con el pasillo con ID 100? {all_missing_related_to_aisle_100}\")"
   ]
  },
  {
   "cell_type": "markdown",
   "id": "WRpIfXRphpSL",
   "metadata": {
    "id": "WRpIfXRphpSL"
   },
   "source": [
    "Describe brevemente cuáles son tus hallazgos.\n",
    "Todos los valores ausentes se encuentran en el pasillo 100"
   ]
  },
  {
   "cell_type": "code",
   "execution_count": 25,
   "id": "8fd0a541",
   "metadata": {
    "id": "8fd0a541"
   },
   "outputs": [
    {
     "name": "stdout",
     "output_type": "stream",
     "text": [
      "¿Todos los nombres de productos ausentes están relacionados con el departamento con ID 21? True\n"
     ]
    }
   ],
   "source": [
    "# ¿Todos los nombres de productos ausentes están relacionados con el departamento con ID 21?\n",
    "department_21_missing_product_names = missing_product_names[missing_product_names['department_id'] == 21]\n",
    "all_missing_related_to_department_21 = missing_product_names.shape[0] == department_21_missing_product_names.shape[0]\n",
    "print(f\"¿Todos los nombres de productos ausentes están relacionados con el departamento con ID 21? {all_missing_related_to_department_21}\")"
   ]
  },
  {
   "cell_type": "markdown",
   "id": "qDpdYn1Fht_I",
   "metadata": {
    "id": "qDpdYn1Fht_I"
   },
   "source": [
    "Describe brevemente cuáles son tus hallazgos.\n",
    "Todos los products ausentes estan relacionados con el departamento 21"
   ]
  },
  {
   "cell_type": "code",
   "execution_count": 26,
   "id": "325c3464",
   "metadata": {
    "id": "325c3464"
   },
   "outputs": [
    {
     "name": "stdout",
     "output_type": "stream",
     "text": [
      "\n",
      "¿Todos los nombres de productos ausentes están relacionados con el pasillo con ID 100? True\n",
      "¿Todos los nombres de productos ausentes están relacionados con el departamento con ID 21? True\n"
     ]
    }
   ],
   "source": [
    "# Usa las tablas department y aisle para revisar los datos del pasillo con ID 100 y el departamento con ID 21.\n",
    "\n",
    "aisle_100_data = df_aisles[df_aisles['aisle_id'] == 100]\n",
    "department_21_data = df_departments[df_departments['department_id'] == 21]\n",
    "\n",
    "\n",
    "missing_product_details = missing_product_names.merge(df_aisles, on='aisle_id', how='left')\n",
    "missing_product_details = missing_product_details.merge(df_departments, on='department_id', how='left')\n",
    "\n",
    "all_missing_related_to_aisle_100 = missing_product_names['aisle_id'].eq(100).all()\n",
    "all_missing_related_to_department_21 = missing_product_names['department_id'].eq(21).all()\n",
    "\n",
    "print(f\"\\n¿Todos los nombres de productos ausentes están relacionados con el pasillo con ID 100? {all_missing_related_to_aisle_100}\")\n",
    "print(f\"¿Todos los nombres de productos ausentes están relacionados con el departamento con ID 21? {all_missing_related_to_department_21}\")\n"
   ]
  },
  {
   "cell_type": "markdown",
   "id": "nqhSTUPhhvEJ",
   "metadata": {
    "id": "nqhSTUPhhvEJ"
   },
   "source": [
    "Describe brevemente cuáles son tus hallazgos.\n",
    "Todos los valores ausentes estan relacionados con el pasillo ID 100 y el departamento ID 21."
   ]
  },
  {
   "cell_type": "code",
   "execution_count": 27,
   "id": "6b295120",
   "metadata": {
    "id": "6b295120"
   },
   "outputs": [
    {
     "name": "stdout",
     "output_type": "stream",
     "text": [
      "Número de valores ausentes en 'product_name' después de completar: 0\n"
     ]
    }
   ],
   "source": [
    "# Completa los nombres de productos ausentes con 'Unknown'\n",
    "df_products['product_name'] = df_products['product_name'].fillna('Unknown')\n",
    "missing_product_names = df_products[df_products['product_name'].isna()]\n",
    "print(f\"Número de valores ausentes en 'product_name' después de completar: {missing_product_names.shape[0]}\")"
   ]
  },
  {
   "cell_type": "markdown",
   "id": "fc70e5ad",
   "metadata": {
    "id": "fc70e5ad"
   },
   "source": [
    "Describe brevemente tus hallazgos y lo que hiciste con ellos."
   ]
  },
  {
   "cell_type": "markdown",
   "id": "7eb45c86",
   "metadata": {
    "id": "7eb45c86"
   },
   "source": [
    "### `orders` data frame"
   ]
  },
  {
   "cell_type": "code",
   "execution_count": 28,
   "id": "93e41d96",
   "metadata": {
    "id": "93e41d96"
   },
   "outputs": [
    {
     "name": "stdout",
     "output_type": "stream",
     "text": [
      "Número de valores ausentes en 'orders_name': 478967\n"
     ]
    }
   ],
   "source": [
    "# Encuentra los valores ausentes\n",
    "missing_orders_names = df_orders[df_orders.isna()]\n",
    "print(f\"Número de valores ausentes en 'orders_name': {missing_orders_names.shape[0]}\")"
   ]
  },
  {
   "cell_type": "code",
   "execution_count": 29,
   "id": "166e5a86",
   "metadata": {
    "id": "166e5a86"
   },
   "outputs": [
    {
     "name": "stdout",
     "output_type": "stream",
     "text": [
      "Total de valores nulos en \"days_since_prior_order\": 28819\n",
      "Valores nulos en \"days_since_prior_order\" que no son el primer pedido: 0\n"
     ]
    }
   ],
   "source": [
    "# ¿Hay algún valor ausente que no sea el primer pedido del cliente?\n",
    "missing_days_since_prior_order = df_orders['days_since_prior_order'].isnull()\n",
    "\n",
    "\n",
    "missing_count = missing_days_since_prior_order.sum()\n",
    "non_first_order_nans = df_orders[missing_days_since_prior_order & (df_orders['order_number'] != 1)]\n",
    "non_first_order_nans_count = non_first_order_nans.shape[0]\n",
    "\n",
    "print(f'Total de valores nulos en \"days_since_prior_order\": {missing_count}')\n",
    "print(f'Valores nulos en \"days_since_prior_order\" que no son el primer pedido: {non_first_order_nans_count}')"
   ]
  },
  {
   "cell_type": "markdown",
   "id": "4e23d089",
   "metadata": {
    "id": "4e23d089"
   },
   "source": [
    "Describe brevemente tus hallazgos y lo que hiciste con ellos.\n",
    "Valores nulos en \"days_since_prior_order\" que no son el primer pedido: 0"
   ]
  },
  {
   "cell_type": "markdown",
   "id": "69dc9ca4",
   "metadata": {
    "id": "69dc9ca4"
   },
   "source": [
    "### `order_products` data frame"
   ]
  },
  {
   "cell_type": "code",
   "execution_count": 30,
   "id": "b8240253",
   "metadata": {
    "id": "b8240253"
   },
   "outputs": [
    {
     "name": "stdout",
     "output_type": "stream",
     "text": [
      "Número de valores ausentes en 'orders_products': 4545007\n"
     ]
    }
   ],
   "source": [
    "# Encuentra los valores ausentes\n",
    "missing_orders_products = df_order_products[df_order_products.isna()]\n",
    "print(f\"Número de valores ausentes en 'orders_products': {missing_orders_products.shape[0]}\")"
   ]
  },
  {
   "cell_type": "code",
   "execution_count": 31,
   "id": "9a78e5ee",
   "metadata": {
    "id": "9a78e5ee"
   },
   "outputs": [
    {
     "name": "stdout",
     "output_type": "stream",
     "text": [
      "Valores máximos en columnas\n",
      "order_id            NaN\n",
      "product_id          NaN\n",
      "add_to_cart_order   NaN\n",
      "reordered           NaN\n",
      "dtype: float64\n",
      "Valores mínimos en columnas:\n",
      "order_id            NaN\n",
      "product_id          NaN\n",
      "add_to_cart_order   NaN\n",
      "reordered           NaN\n",
      "dtype: float64\n"
     ]
    }
   ],
   "source": [
    "import pandas as pd\n",
    "df_order_products = pd.read_csv('/datasets/order_products.csv', delimiter=';')\n",
    "\n",
    "missing_orders_products = df_order_products[df_order_products.isna()]\n",
    "max_values = missing_orders_products.max()\n",
    "min_values = missing_orders_products.min()\n",
    "\n",
    "print(\"Valores máximos en columnas\")\n",
    "print(max_values)\n",
    "print(\"Valores mínimos en columnas:\")\n",
    "print(min_values)\n"
   ]
  },
  {
   "cell_type": "markdown",
   "id": "-Z2Ja215jW78",
   "metadata": {
    "id": "-Z2Ja215jW78"
   },
   "source": [
    "Describe brevemente cuáles son tus hallazgos.\n",
    "Hay muchos valores ausentes en las ordenes de productos"
   ]
  },
  {
   "cell_type": "code",
   "execution_count": 32,
   "id": "ab9d0c2b",
   "metadata": {
    "id": "ab9d0c2b"
   },
   "outputs": [
    {
     "name": "stdout",
     "output_type": "stream",
     "text": [
      "Número de pedidos con valores ausentes en 'add_to_cart_order': 70\n",
      "IDs de pedidos con valores ausentes en 'add_to_cart_order':\n",
      "[2449164 1968313 2926893 1717990 1959075  844733   61355  936852  264710\n",
      " 1564093  129627  293169 2849370 1386261 3308010  903110 2136777 3347453\n",
      " 1888628  165801 2094761 1038146 2997021  813364 2256933  171934 2409109\n",
      " 1730767 1169835  733526  404157 3125735  747668 1800005 1961723  871281\n",
      "  388234 1648217 1477139  102236 1021563 1832957 2721963  678116 1220886\n",
      " 1673227 2999801 1633337 2470674 2625444 1677118 2479011 3383594 1183255\n",
      " 1713430 2652650 1598369 1916118  854647 1302315  888470  180546 2621907\n",
      " 1308785 2729254    9310 2170451 2979697 1625713 1529171]\n"
     ]
    }
   ],
   "source": [
    "# Guarda todas las IDs de pedidos que tengan un valor ausente en 'add_to_cart_order'\n",
    "missing_add_to_cart_order = df_order_products[df_order_products['add_to_cart_order'].isna()]\n",
    "order_ids_with_missing_add_to_cart_order = missing_add_to_cart_order['order_id'].unique()\n",
    "print(f\"Número de pedidos con valores ausentes en 'add_to_cart_order': {len(order_ids_with_missing_add_to_cart_order)}\")\n",
    "print(\"IDs de pedidos con valores ausentes en 'add_to_cart_order':\")\n",
    "print(order_ids_with_missing_add_to_cart_order)"
   ]
  },
  {
   "cell_type": "code",
   "execution_count": 33,
   "id": "54c31695",
   "metadata": {
    "id": "54c31695"
   },
   "outputs": [
    {
     "name": "stdout",
     "output_type": "stream",
     "text": [
      "El valor mínimo del conteo de productos en pedidos con valores ausentes en 'add_to_cart_order' es: 1\n",
      "¿Todos los pedidos con valores ausentes tienen más de 64 productos? False\n"
     ]
    }
   ],
   "source": [
    "# ¿Todos los pedidos con valores ausentes tienen más de 64 productos?\n",
    "# Agrupa todos los pedidos con datos ausentes por su ID de pedido.\n",
    "# Cuenta el número de 'product_id' en cada pedido y revisa el valor mínimo del conteo.\n",
    "missing_add_to_cart_order = df_order_products[df_order_products['add_to_cart_order'].isna()]\n",
    "product_counts_per_order = missing_add_to_cart_order.groupby('order_id')['product_id'].count()\n",
    "min_product_count = product_counts_per_order.min()\n",
    "all_orders_above_64 = min_product_count > 64\n",
    "\n",
    "print(f\"El valor mínimo del conteo de productos en pedidos con valores ausentes en 'add_to_cart_order' es: {min_product_count}\")\n",
    "print(f\"¿Todos los pedidos con valores ausentes tienen más de 64 productos? {all_orders_above_64}\")\n"
   ]
  },
  {
   "cell_type": "markdown",
   "id": "p9V6pddtjglj",
   "metadata": {
    "id": "p9V6pddtjglj"
   },
   "source": [
    "Describe brevemente cuáles son tus hallazgos.\n",
    "Es falso que todos los productos tengan mas de 64 productos."
   ]
  },
  {
   "cell_type": "code",
   "execution_count": 34,
   "id": "7a987d08",
   "metadata": {
    "id": "7a987d08"
   },
   "outputs": [
    {
     "name": "stdout",
     "output_type": "stream",
     "text": [
      "int64\n",
      "0\n"
     ]
    }
   ],
   "source": [
    "# Remplaza los valores ausentes en la columna 'add_to_cart? con 999 y convierte la columna al tipo entero.\n",
    "df_order_products['add_to_cart_order'].fillna(999, inplace=True)\n",
    "df_order_products['add_to_cart_order'] = df_order_products['add_to_cart_order'].astype(int)\n",
    "print(df_order_products['add_to_cart_order'].dtypes)\n",
    "print(df_order_products['add_to_cart_order'].isna().sum())"
   ]
  },
  {
   "cell_type": "markdown",
   "id": "fea4bcc7",
   "metadata": {
    "id": "fea4bcc7"
   },
   "source": [
    "Describe brevemente tus hallazgos y lo que hiciste con ellos.\n",
    "Se identificarn valores ausentes los cuales se convirtieron en 999 como valor entero para que sean facil de indentificar y procesar la informacion y no haya ruido."
   ]
  },
  {
   "cell_type": "markdown",
   "id": "RnplPFY1gSrb",
   "metadata": {
    "id": "RnplPFY1gSrb"
   },
   "source": [
    "## Conclusiones\n",
    "\n",
    "Escribe aquí tus conclusiones intermedias sobre el Paso 2. Preprocesamiento de los datos\n",
    "Es importante identificar los valores austentes y duplicados para poder eliminarlos y que no generen ruidos en la base de daos para de esta manera poder sacar conclusiones mas acertadas.\n"
   ]
  },
  {
   "cell_type": "markdown",
   "id": "UjrOIwTcz3ri",
   "metadata": {
    "id": "UjrOIwTcz3ri"
   },
   "source": [
    "# Paso 3. Análisis de los datos\n",
    "\n",
    "Una vez los datos estén procesados y listos, haz el siguiente análisis:"
   ]
  },
  {
   "cell_type": "markdown",
   "id": "turkish-kidney",
   "metadata": {
    "id": "turkish-kidney"
   },
   "source": [
    "# [A] Fácil (deben completarse todos para aprobar)\n",
    "\n",
    "1. Verifica que los valores en las columnas `'order_hour_of_day'` y `'order_dow'` en la tabla orders sean razonables (es decir, `'order_hour_of_day'` oscile entre 0 y 23 y `'order_dow'` oscile entre 0 y 6).\n",
    "2. Crea un gráfico que muestre el número de personas que hacen pedidos dependiendo de la hora del día.\n",
    "3. Crea un gráfico que muestre qué día de la semana la gente hace sus compras.\n",
    "4. Crea un gráfico que muestre el tiempo que la gente espera hasta hacer su siguiente pedido, y comenta sobre los valores mínimos y máximos."
   ]
  },
  {
   "cell_type": "markdown",
   "id": "short-capability",
   "metadata": {
    "id": "short-capability"
   },
   "source": [
    "### [A1] Verifica que los valores sean sensibles"
   ]
  },
  {
   "cell_type": "code",
   "execution_count": 35,
   "id": "growing-fruit",
   "metadata": {
    "id": "growing-fruit"
   },
   "outputs": [
    {
     "name": "stdout",
     "output_type": "stream",
     "text": [
      "¿Todos los valores de 'order_hour_of_day' están entre 0 y 23? True\n"
     ]
    }
   ],
   "source": [
    "import pandas as pd\n",
    "df_orders = pd.read_csv('/datasets/instacart_orders.csv', delimiter=';')\n",
    "valid_hours = df_orders['order_hour_of_day'].between(0, 23).all()\n",
    "print(f\"¿Todos los valores de 'order_hour_of_day' están entre 0 y 23? {valid_hours}\")"
   ]
  },
  {
   "cell_type": "code",
   "execution_count": 36,
   "id": "accessory-malaysia",
   "metadata": {
    "id": "accessory-malaysia"
   },
   "outputs": [
    {
     "name": "stdout",
     "output_type": "stream",
     "text": [
      "¿Todos los valores de 'order_dow' están entre 0 y 6? True\n"
     ]
    }
   ],
   "source": [
    "valid_days = df_orders['order_dow'].between(0, 6).all()\n",
    "print(f\"¿Todos los valores de 'order_dow' están entre 0 y 6? {valid_days}\")"
   ]
  },
  {
   "cell_type": "markdown",
   "id": "hmR2GNQ6lCsX",
   "metadata": {
    "id": "hmR2GNQ6lCsX"
   },
   "source": [
    "Escribe aquí tus conclusiones\n",
    "Los valores si son razonables, ya que se encuentran entre 0 y 23 que corresponden a las 24 horas que tiene un día, y de igual manera los valores se encuentran entre el 0(domingo) y 6(Sabado) que corresponden a todos los días que tiene una semana, por lo que podemos concluir que los valores estan correctos y no hay que hacer ninguna modificación por el momento."
   ]
  },
  {
   "cell_type": "markdown",
   "id": "a6743a70",
   "metadata": {
    "id": "a6743a70"
   },
   "source": [
    "### [A2] Para cada hora del día, ¿cuántas personas hacen órdenes?"
   ]
  },
  {
   "cell_type": "code",
   "execution_count": 37,
   "id": "a36cca27",
   "metadata": {
    "id": "a36cca27"
   },
   "outputs": [
    {
     "data": {
      "image/png": "[encoded data removed]",
      "text/plain": [
       "<Figure size 750x450 with 1 Axes>"
      ]
     },
     "metadata": {},
     "output_type": "display_data"
    }
   ],
   "source": [
    "import pandas as pd\n",
    "from matplotlib import pyplot as plt\n",
    "order_hour_counts = df_orders['order_hour_of_day'].value_counts().sort_index()\n",
    "plt.figure(figsize=(7.5, 4.5))\n",
    "order_hour_counts.plot(kind='bar')\n",
    "plt.title('Número de pedidos por hora del día')\n",
    "plt.xlabel('Hora del día')\n",
    "plt.ylabel('Pedidos')\n",
    "plt.xticks(range(0, 24))\n",
    "plt.grid(True)\n",
    "plt.show()"
   ]
  },
  {
   "cell_type": "markdown",
   "id": "11270eed",
   "metadata": {
    "id": "11270eed"
   },
   "source": [
    "Escribe aquí tus conclusiones\n",
    "Las horas con mayor movimiento son entre las 10am y las 4pm por lo que cualquier estrategia de promoción o de aumento de demanda tienen que ir segmentadas a esa hora para lograr un mayor alcance."
   ]
  },
  {
   "cell_type": "markdown",
   "id": "documented-command",
   "metadata": {
    "id": "documented-command"
   },
   "source": [
    "### [A3] ¿Qué día de la semana compran víveres las personas?"
   ]
  },
  {
   "cell_type": "code",
   "execution_count": 38,
   "id": "chief-digit",
   "metadata": {
    "id": "chief-digit"
   },
   "outputs": [
    {
     "data": {
      "image/png": "[encoded data removed]",
      "text/plain": [
       "<Figure size 750x450 with 1 Axes>"
      ]
     },
     "metadata": {},
     "output_type": "display_data"
    }
   ],
   "source": [
    "import pandas as pd\n",
    "from matplotlib import pyplot as plt\n",
    "order_hour_counts = df_orders['order_dow'].value_counts().sort_index()\n",
    "plt.figure(figsize=(7.5, 4.5))\n",
    "order_hour_counts.plot(kind='bar')\n",
    "plt.title('Número de pedidos por día de la semana')\n",
    "plt.xlabel('Día de la semana')\n",
    "plt.ylabel('Pedidos')\n",
    "plt.xticks(range(0, 7),[\"Domingo\",\"Lunes\",\"Martes\",\"Mircoles\",\"Juves\",\"Viernes\",\"Sabado\"])\n",
    "plt.show()"
   ]
  },
  {
   "cell_type": "markdown",
   "id": "dominant-lightning",
   "metadata": {
    "id": "dominant-lightning"
   },
   "source": [
    "Escribe aquí tus conclusiones\n",
    "Los días de la semana que se tiene mayor venta son los días Domingo y Lunes, posteriormente entre mediados de semana notamos una pequeña disminución de la venta y conforme se empieza a acercar el fin de semana el día Viernes empieza a aumentar los pedidos de nuevo."
   ]
  },
  {
   "cell_type": "markdown",
   "id": "cutting-concert",
   "metadata": {
    "id": "cutting-concert"
   },
   "source": [
    "### [A4] ¿Cuánto tiempo esperan las personas hasta hacer otro pedido? Comenta sobre los valores mínimos y máximos."
   ]
  },
  {
   "cell_type": "code",
   "execution_count": 39,
   "id": "c231f523",
   "metadata": {
    "id": "c231f523"
   },
   "outputs": [
    {
     "data": {
      "image/png": "[encoded data removed]",
      "text/plain": [
       "<Figure size 1000x600 with 1 Axes>"
      ]
     },
     "metadata": {},
     "output_type": "display_data"
    },
    {
     "name": "stdout",
     "output_type": "stream",
     "text": [
      "El tiempo de espera minimo de las personas para hacer otro pedido después de una comrpra es:0.0\n",
      "El tiempo de espera maximo de las personas para hacer otro pedido después de una comrpra es:30.0\n"
     ]
    }
   ],
   "source": [
    "order_hour_counts = df_orders['days_since_prior_order'].value_counts().sort_index()\n",
    "plt.figure(figsize=(10, 6))\n",
    "order_hour_counts.plot(kind='bar')\n",
    "plt.title('Tiempo de espera de las personas hasta el siguiente pedido')\n",
    "plt.xlabel('Días desde el pedido anterior')\n",
    "plt.ylabel('Numero de pedidos')\n",
    "plt.grid(True)\n",
    "plt.show()\n",
    "\n",
    "min_days_since_prior_order = df_orders[\"days_since_prior_order\"].min()\n",
    "max_days_since_prior_order = df_orders[\"days_since_prior_order\"].max()\n",
    "\n",
    "print (f\"El tiempo de espera minimo de las personas para hacer otro pedido después de una comrpra es:{min_days_since_prior_order}\")\n",
    "print (f\"El tiempo de espera maximo de las personas para hacer otro pedido después de una comrpra es:{max_days_since_prior_order}\")\n",
    "\n"
   ]
  },
  {
   "cell_type": "markdown",
   "id": "discrete-vertex",
   "metadata": {
    "id": "discrete-vertex"
   },
   "source": [
    "Escribe aquí tus conclusiones\n",
    "El tiempo de espera minimo para hacer otro pedido es de 0 días y el maximo de 30 días, pero los mayores picos se dan a los 7 días (una semana) y los 30 días (un mes) viendo el mayor pico a los 30 días, por lo que la mayor cantidad de personas tardan un mes en volver a hacer un pedido."
   ]
  },
  {
   "cell_type": "markdown",
   "id": "tight-staff",
   "metadata": {
    "id": "tight-staff"
   },
   "source": [
    "# [B] Intermedio (deben completarse todos para aprobar)\n",
    "\n",
    "1. ¿Existe alguna diferencia entre las distribuciones `'order_hour_of_day'` de los miércoles y los sábados? Traza gráficos de barra de `'order_hour_of_day'` para ambos días en la misma figura y describe las diferencias que observes.\n",
    "2. Grafica la distribución para el número de órdenes que hacen los clientes (es decir, cuántos clientes hicieron solo 1 pedido, cuántos hicieron 2, cuántos 3, y así sucesivamente...).\n",
    "3. ¿Cuáles son los 20 principales productos que se piden con más frecuencia (muestra su identificación y nombre)?"
   ]
  },
  {
   "cell_type": "markdown",
   "id": "packed-classic",
   "metadata": {
    "id": "packed-classic"
   },
   "source": [
    "### [B1] Diferencia entre miércoles y sábados para  `'order_hour_of_day'`. Traza gráficos de barra para los dos días y describe las diferencias que veas."
   ]
  },
  {
   "cell_type": "code",
   "execution_count": 40,
   "id": "d89b8403",
   "metadata": {
    "id": "d89b8403"
   },
   "outputs": [],
   "source": [
    "wednesday_orders = df_orders[df_orders['order_dow'] == 3]['order_hour_of_day']\n",
    "saturday_orders = df_orders[df_orders['order_dow'] == 6]['order_hour_of_day']"
   ]
  },
  {
   "cell_type": "code",
   "execution_count": 41,
   "id": "94e54e8a",
   "metadata": {
    "id": "94e54e8a"
   },
   "outputs": [],
   "source": [
    "wednesday_counts = wednesday_orders.value_counts().sort_index()\n",
    "saturday_counts = saturday_orders.value_counts().sort_index()"
   ]
  },
  {
   "cell_type": "code",
   "execution_count": 42,
   "id": "797c90a8",
   "metadata": {
    "id": "797c90a8"
   },
   "outputs": [
    {
     "data": {
      "image/png": "[encoded data removed]",
      "text/plain": [
       "<Figure size 1400x700 with 1 Axes>"
      ]
     },
     "metadata": {},
     "output_type": "display_data"
    }
   ],
   "source": [
    "plt.figure(figsize=(14, 7))\n",
    "\n",
    "plt.bar(wednesday_counts.index - 0.2, wednesday_counts.values, width=0.4, label='Miércoles', align='center')\n",
    "plt.bar(saturday_counts.index + 0.2, saturday_counts.values, width=0.4, label='Sábado', align='center')\n",
    "plt.title('Distribución de órdenes por hora del día: Miércoles vs. Sábado')\n",
    "plt.xlabel('Hora del día')\n",
    "plt.ylabel('Número de órdenes')\n",
    "plt.xticks(range(0, 24))\n",
    "plt.grid(True)\n",
    "plt.legend()\n",
    "plt.show()"
   ]
  },
  {
   "cell_type": "code",
   "execution_count": null,
   "id": "35bcea30",
   "metadata": {
    "id": "35bcea30"
   },
   "outputs": [],
   "source": []
  },
  {
   "cell_type": "markdown",
   "id": "charitable-congo",
   "metadata": {
    "id": "charitable-congo"
   },
   "source": [
    "Escribe aquí tus conclusiones\n",
    "El comportamiento es muy similar entre los dos días, aunque podemos observar una diferencia entre que el miércoles tienen una mayor actividad en las mañanas, pero  a partir de las 10 am su comportamiento varía entre altos y bajos y presenta su punto máximo a las 3;00pm, mientras que el sabado tiene una tendencia ascendete desde las 6:00am alcanzando su punto más alto a las 2:00 pm en donde empieza a descender mostrando una tendencia más regular."
   ]
  },
  {
   "cell_type": "markdown",
   "id": "e3891143",
   "metadata": {
    "id": "e3891143"
   },
   "source": [
    "### [B2] ¿Cuál es la distribución para el número de pedidos por cliente?"
   ]
  },
  {
   "cell_type": "code",
   "execution_count": 43,
   "id": "d8c26c23",
   "metadata": {
    "id": "d8c26c23"
   },
   "outputs": [],
   "source": [
    "orders_per_customer = df_orders['user_id'].value_counts()"
   ]
  },
  {
   "cell_type": "code",
   "execution_count": 44,
   "id": "00e69a66",
   "metadata": {
    "id": "00e69a66"
   },
   "outputs": [
    {
     "data": {
      "image/png": "[encoded data removed]",
      "text/plain": [
       "<Figure size 1200x600 with 1 Axes>"
      ]
     },
     "metadata": {},
     "output_type": "display_data"
    }
   ],
   "source": [
    "plt.figure(figsize=(12, 6))\n",
    "bars = orders_per_customer.value_counts().sort_index().plot(kind='bar')\n",
    "plt.title('Distribución del número de órdenes por cliente')\n",
    "plt.xlabel('Número de órdenes X Cliente')\n",
    "plt.ylabel('Número de clientes')\n",
    "plt.grid(True)\n",
    "\n",
    "\n",
    "for bar in bars.patches:\n",
    "    plt.text(\n",
    "        bar.get_x() + bar.get_width() / 2, \n",
    "        bar.get_height() + 1000, \n",
    "        str(int(bar.get_height())), \n",
    "        ha='center', \n",
    "        fontsize=8, \n",
    "        color='black'\n",
    "    )\n",
    "\n",
    "plt.show()"
   ]
  },
  {
   "cell_type": "markdown",
   "id": "d2eff7d5",
   "metadata": {
    "id": "d2eff7d5"
   },
   "source": [
    "Escribe aquí tus conclusiones\n",
    "Podemos observar que la capacidad de retención de los clientes es baja, ya que observamos una tendencia muy marcada en la disminución de la repetición de compras por lo que sería importante crear un servicio posventa o un programa de fidelidad para incentivar a que el índice de repetición de compra sea mayor y no se pierdan tantos clientes entre compras."
   ]
  },
  {
   "cell_type": "markdown",
   "id": "54a0319c",
   "metadata": {
    "id": "54a0319c"
   },
   "source": [
    "### [B3] ¿Cuáles son los 20 productos más populares (muestra su ID y nombre)?"
   ]
  },
  {
   "cell_type": "code",
   "execution_count": 58,
   "id": "exterior-arizona",
   "metadata": {
    "id": "exterior-arizona",
    "scrolled": true
   },
   "outputs": [
    {
     "name": "stdout",
     "output_type": "stream",
     "text": [
      "Los 20 principales productos que se piden con más frecuencia:\n",
      "    product_id              product_name  order_count\n",
      "0        24852                    Banana        66050\n",
      "1        13176    Bag of Organic Bananas        53297\n",
      "2        21137      Organic Strawberries        37039\n",
      "3        21903      Organic Baby Spinach        33971\n",
      "4        47209      Organic Hass Avocado        29773\n",
      "5        47766           Organic Avocado        24689\n",
      "6        47626               Large Lemon        21495\n",
      "7        16797              Strawberries        20018\n",
      "8        26209                     Limes        19690\n",
      "9        27845        Organic Whole Milk        19600\n",
      "10       27966       Organic Raspberries        19197\n",
      "11       22935      Organic Yellow Onion        15898\n",
      "12       24964            Organic Garlic        15292\n",
      "13       45007          Organic Zucchini        14584\n",
      "14       39275       Organic Blueberries        13879\n",
      "15       49683            Cucumber Kirby        13675\n",
      "16       28204        Organic Fuji Apple        12544\n",
      "17        5876             Organic Lemon        12232\n",
      "18        8277  Apple Honeycrisp Organic        11993\n",
      "19       40706    Organic Grape Tomatoes        11781\n"
     ]
    }
   ],
   "source": [
    "product_order_counts = df_order_products['product_id'].value_counts()\n",
    "\n",
    "top_20_products = product_order_counts.head(20)\n",
    "top_20_products_df = top_20_products.to_frame().reset_index()\n",
    "top_20_products_df.columns = ['product_id', 'order_count']\n",
    "top_products = top_20_products_df.merge(df_products, on='product_id')\n",
    "top_products = top_products[['product_id', 'product_name', 'order_count']]\n",
    "\n",
    "print(\"Los 20 principales productos que se piden con más frecuencia:\")\n",
    "print(top_products)\n"
   ]
  },
  {
   "cell_type": "code",
   "execution_count": 77,
   "id": "universal-facial",
   "metadata": {
    "id": "universal-facial"
   },
   "outputs": [
    {
     "data": {
      "image/png": "[encoded data removed]",
      "text/plain": [
       "<Figure size 1400x700 with 1 Axes>"
      ]
     },
     "metadata": {},
     "output_type": "display_data"
    }
   ],
   "source": [
    "plt.figure(figsize=(14, 7))\n",
    "plt.bar(top_products['product_name'], top_products['order_count'], color='cyan')\n",
    "plt.xlabel('Nombre del Producto')\n",
    "plt.ylabel('Número de Pedidos')\n",
    "plt.title('Top 20 Productos Más Frecuentemente Pedidos')\n",
    "plt.xticks(rotation=45)\n",
    "plt.grid(True)\n",
    "    \n",
    "plt.show()"
   ]
  },
  {
   "cell_type": "markdown",
   "id": "7df00f47",
   "metadata": {
    "id": "7df00f47"
   },
   "source": [
    "Escribe aquí tus conclusiones\n",
    "Los dos productos que se consumen mas son los banano y adiocionalmente podemos destacar que los productos organicos tienen una muy alta demana debido a que 15 de los 20 productos son organicos,"
   ]
  },
  {
   "cell_type": "markdown",
   "id": "gross-theme",
   "metadata": {
    "id": "gross-theme"
   },
   "source": [
    "# [C] Difícil (deben completarse todos para aprobar)\n",
    "\n",
    "1. ¿Cuántos artículos suelen comprar las personas en un pedido? ¿Cómo es la distribución?\n",
    "2. ¿Cuáles son los 20 principales artículos que vuelven a pedirse con mayor frecuencia (muestra sus nombres e IDs de los productos)?\n",
    "3. Para cada producto, ¿cuál es la tasa de repetición del pedido (número de repeticiones de pedido/total de pedidos?\n",
    "4. Para cada cliente, ¿qué proporción de los productos que pidió ya los había pedido? Calcula la tasa de repetición de pedido para cada usuario en lugar de para cada producto.\n",
    "5. ¿Cuáles son los 20 principales artículos que la gente pone primero en sus carritos (muestra las IDs de los productos, sus nombres, y el número de veces en que fueron el primer artículo en añadirse al carrito)?"
   ]
  },
  {
   "cell_type": "markdown",
   "id": "romantic-deposit",
   "metadata": {
    "id": "romantic-deposit"
   },
   "source": [
    "### [C1] ¿Cuántos artículos compran normalmente las personas en un pedido? ¿Cómo es la distribución?"
   ]
  },
  {
   "cell_type": "code",
   "execution_count": 79,
   "id": "virtual-punch",
   "metadata": {
    "id": "virtual-punch"
   },
   "outputs": [],
   "source": [
    "items_per_order = df_order_products.groupby('order_id')['product_id'].count()"
   ]
  },
  {
   "cell_type": "code",
   "execution_count": 80,
   "id": "sensitive-breathing",
   "metadata": {
    "id": "sensitive-breathing"
   },
   "outputs": [
    {
     "data": {
      "image/png": "[encoded data removed]",
      "text/plain": [
       "<Figure size 1400x700 with 1 Axes>"
      ]
     },
     "metadata": {},
     "output_type": "display_data"
    }
   ],
   "source": [
    "plt.figure(figsize=(14, 7))\n",
    "plt.hist(items_per_order, bins=50, color='skyblue')\n",
    "plt.xlabel('Número de Artículos por Pedido')\n",
    "plt.ylabel('Frecuencia')\n",
    "plt.title('Distribución del Número de Artículos por Pedido')\n",
    "plt.grid(True)\n",
    "plt.show()\n"
   ]
  },
  {
   "cell_type": "code",
   "execution_count": 82,
   "id": "completed-frank",
   "metadata": {
    "id": "completed-frank"
   },
   "outputs": [
    {
     "name": "stdout",
     "output_type": "stream",
     "text": [
      "order_id\n",
      "4          13\n",
      "9          15\n",
      "11          5\n",
      "19          3\n",
      "20          8\n",
      "           ..\n",
      "3421034    17\n",
      "3421053     9\n",
      "3421071     5\n",
      "3421077     4\n",
      "3421079     1\n",
      "Name: product_id, Length: 450046, dtype: int64\n"
     ]
    }
   ],
   "source": [
    "print(items_per_order)"
   ]
  },
  {
   "cell_type": "markdown",
   "id": "designed-mortality",
   "metadata": {
    "id": "designed-mortality"
   },
   "source": [
    "Escribe aquí tus conclusiones"
   ]
  },
  {
   "cell_type": "markdown",
   "id": "5e6b5537",
   "metadata": {
    "id": "5e6b5537"
   },
   "source": [
    "### [C2] ¿Cuáles son los 20 principales artículos que vuelven a pedirse con mayor frecuencia (muestra sus nombres e IDs de los productos)?"
   ]
  },
  {
   "cell_type": "code",
   "execution_count": 83,
   "id": "9374e55a",
   "metadata": {
    "id": "9374e55a"
   },
   "outputs": [],
   "source": [
    "reordered_products = df_order_products[df_order_products['reordered'] == 1]\n",
    "reordered_counts = reordered_products['product_id'].value_counts().head(20)"
   ]
  },
  {
   "cell_type": "code",
   "execution_count": 85,
   "id": "possible-change",
   "metadata": {
    "id": "possible-change",
    "scrolled": true
   },
   "outputs": [],
   "source": [
    "reordered_counts_df = reordered_counts.to_frame().reset_index()\n",
    "reordered_counts_df.columns = ['product_id', 'reorder_count']"
   ]
  },
  {
   "cell_type": "code",
   "execution_count": 86,
   "id": "professional-surfing",
   "metadata": {
    "id": "professional-surfing",
    "scrolled": true
   },
   "outputs": [],
   "source": [
    "top_reordered_products = reordered_counts_df.merge(df_products, on='product_id')\n",
    "top_reordered_products = top_reordered_products[['product_id', 'product_name', 'reorder_count']]"
   ]
  },
  {
   "cell_type": "code",
   "execution_count": 87,
   "id": "48dd3658",
   "metadata": {
    "id": "48dd3658"
   },
   "outputs": [
    {
     "name": "stdout",
     "output_type": "stream",
     "text": [
      "Los 20 principales artículos que vuelven a pedirse con mayor frecuencia:\n",
      "    product_id              product_name  reorder_count\n",
      "0        24852                    Banana          55763\n",
      "1        13176    Bag of Organic Bananas          44450\n",
      "2        21137      Organic Strawberries          28639\n",
      "3        21903      Organic Baby Spinach          26233\n",
      "4        47209      Organic Hass Avocado          23629\n",
      "5        47766           Organic Avocado          18743\n",
      "6        27845        Organic Whole Milk          16251\n",
      "7        47626               Large Lemon          15044\n",
      "8        27966       Organic Raspberries          14748\n",
      "9        16797              Strawberries          13945\n",
      "10       26209                     Limes          13327\n",
      "11       22935      Organic Yellow Onion          11145\n",
      "12       24964            Organic Garlic          10411\n",
      "13       45007          Organic Zucchini          10076\n",
      "14       49683            Cucumber Kirby           9538\n",
      "15       28204        Organic Fuji Apple           8989\n",
      "16        8277  Apple Honeycrisp Organic           8836\n",
      "17       39275       Organic Blueberries           8799\n",
      "18        5876             Organic Lemon           8412\n",
      "19       49235       Organic Half & Half           8389\n"
     ]
    }
   ],
   "source": [
    "print(\"Los 20 principales artículos que vuelven a pedirse con mayor frecuencia:\")\n",
    "print(top_reordered_products)"
   ]
  },
  {
   "cell_type": "markdown",
   "id": "80e70c74",
   "metadata": {
    "id": "80e70c74"
   },
   "source": [
    "Escribe aquí tus conclusiones"
   ]
  },
  {
   "cell_type": "markdown",
   "id": "9d312b14",
   "metadata": {
    "id": "9d312b14"
   },
   "source": [
    "### [C3] Para cada producto, ¿cuál es la proporción de las veces que se pide y que se vuelve a pedir?"
   ]
  },
  {
   "cell_type": "code",
   "execution_count": 91,
   "id": "8ae9f4b1",
   "metadata": {
    "id": "8ae9f4b1"
   },
   "outputs": [],
   "source": [
    "total_product_orders = df_order_products['product_id'].value_counts()\n",
    "reordered_products = df_order_products[df_order_products['reordered'] == 1]\n",
    "reordered_counts = reordered_products['product_id'].value_counts()"
   ]
  },
  {
   "cell_type": "code",
   "execution_count": 92,
   "id": "103e7fe1",
   "metadata": {
    "id": "103e7fe1"
   },
   "outputs": [],
   "source": [
    "reorder_rate = (reordered_counts / total_product_orders).reset_index()\n",
    "reorder_rate.columns = ['product_id', 'reorder_rate']\n",
    "reorder_rate_df = reorder_rate.merge(df_products, on='product_id', how='left')\n",
    "reorder_rate_df = reorder_rate_df[['product_id', 'product_name', 'reorder_rate']]\n",
    "reorder_rate_df['reorder_rate'].fillna(0, inplace=True)"
   ]
  },
  {
   "cell_type": "code",
   "execution_count": 93,
   "id": "social-individual",
   "metadata": {
    "id": "social-individual"
   },
   "outputs": [
    {
     "name": "stdout",
     "output_type": "stream",
     "text": [
      "Tasa de repetición del pedido para cada producto:\n",
      "       product_id                                       product_name  \\\n",
      "0               1                         Chocolate Sandwich Cookies   \n",
      "1               2                                   All-Seasons Salt   \n",
      "2               3               Robust Golden Unsweetened Oolong Tea   \n",
      "3               4  Smart Ones Classic Favorites Mini Rigatoni Wit...   \n",
      "4               7                     Pure Coconut Water With Orange   \n",
      "...           ...                                                ...   \n",
      "45568       49690                      HIGH PERFORMANCE ENERGY DRINK   \n",
      "45569       49691                      ORIGINAL PANCAKE & WAFFLE MIX   \n",
      "45570       49692    ORGANIC INSTANT OATMEAL LIGHT MAPLE BROWN SUGAR   \n",
      "45571       49693                             SPRING WATER BODY WASH   \n",
      "45572       49694                            BURRITO- STEAK & CHEESE   \n",
      "\n",
      "       reorder_rate  \n",
      "0          0.564286  \n",
      "1          0.000000  \n",
      "2          0.738095  \n",
      "3          0.510204  \n",
      "4          0.500000  \n",
      "...             ...  \n",
      "45568      0.800000  \n",
      "45569      0.430556  \n",
      "45570      0.416667  \n",
      "45571      0.440000  \n",
      "45572      0.333333  \n",
      "\n",
      "[45573 rows x 3 columns]\n"
     ]
    }
   ],
   "source": [
    "print(\"Tasa de repetición del pedido para cada producto:\")\n",
    "print(reorder_rate_df)"
   ]
  },
  {
   "cell_type": "markdown",
   "id": "I10dEIAyldcO",
   "metadata": {
    "id": "I10dEIAyldcO"
   },
   "source": [
    "Escribe aquí tus conclusiones"
   ]
  },
  {
   "cell_type": "markdown",
   "id": "subject-boxing",
   "metadata": {
    "id": "subject-boxing"
   },
   "source": [
    "### [C4] Para cada cliente, ¿qué proporción de sus productos ya los había pedido?"
   ]
  },
  {
   "cell_type": "code",
   "execution_count": 103,
   "id": "medical-couple",
   "metadata": {
    "id": "medical-couple",
    "scrolled": true
   },
   "outputs": [
    {
     "name": "stdout",
     "output_type": "stream",
     "text": [
      "Tasa de repetición de pedido para cada usuario:\n",
      "        user_id  reorder_rate\n",
      "0             2      0.038462\n",
      "2             5      0.666667\n",
      "4             7      0.928571\n",
      "5            11      0.200000\n",
      "6            12      0.250000\n",
      "...         ...           ...\n",
      "149621   206203      0.222222\n",
      "149622   206206      0.714286\n",
      "149623   206207      0.891304\n",
      "149624   206208      0.696000\n",
      "149625   206209      0.320000\n",
      "\n",
      "[132991 rows x 2 columns]\n"
     ]
    }
   ],
   "source": [
    "df_order_products_users = df_order_products.merge(df_orders[['order_id', 'user_id']], on='order_id')\n",
    "total_user_orders = df_order_products_users.groupby('user_id')['reordered'].count()\n",
    "user_reorders = df_order_products_users[df_order_products_users['reordered'] == 1].groupby('user_id')['reordered'].count()\n",
    "user_reorder_rate = (user_reorders / total_user_orders).reset_index()\n",
    "user_reorder_rate.columns = ['user_id', 'reorder_rate']\n",
    "user_reorder_rate = user_reorder_rate.dropna()\n",
    "print(\"Tasa de repetición de pedido para cada usuario:\")\n",
    "print(user_reorder_rate)"
   ]
  },
  {
   "cell_type": "code",
   "execution_count": 104,
   "id": "8892e4b4",
   "metadata": {
    "id": "8892e4b4"
   },
   "outputs": [
    {
     "data": {
      "image/png": "[encoded data removed]",
      "text/plain": [
       "<Figure size 1400x700 with 1 Axes>"
      ]
     },
     "metadata": {},
     "output_type": "display_data"
    }
   ],
   "source": [
    "plt.figure(figsize=(14, 7))\n",
    "plt.hist(user_reorder_rate['reorder_rate'], bins=50, color='skyblue')\n",
    "plt.xlabel('Tasa de Repetición de Pedido')\n",
    "plt.ylabel('Frecuencia')\n",
    "plt.title('Distribución de la Tasa de Repetición de Pedido para Cada Usuario')\n",
    "plt.grid(True)\n",
    "plt.show()"
   ]
  },
  {
   "cell_type": "markdown",
   "id": "BgJSvXDsleXz",
   "metadata": {
    "id": "BgJSvXDsleXz"
   },
   "source": [
    "Escribe aquí tus conclusiones"
   ]
  },
  {
   "cell_type": "markdown",
   "id": "92d35137",
   "metadata": {
    "id": "92d35137"
   },
   "source": [
    "### [C5] ¿Cuáles son los 20 principales artículos que las personas ponen primero en sus carritos?"
   ]
  },
  {
   "cell_type": "code",
   "execution_count": 96,
   "id": "0ae57274",
   "metadata": {
    "id": "0ae57274",
    "scrolled": true
   },
   "outputs": [],
   "source": [
    "first_in_cart = df_order_products[df_order_products['add_to_cart_order'] == 1]\n",
    "first_in_cart_counts = first_in_cart['product_id'].value_counts().head(20)\n",
    "first_in_cart_counts_df = first_in_cart_counts.to_frame().reset_index()\n",
    "first_in_cart_counts_df.columns = ['product_id', 'first_count']"
   ]
  },
  {
   "cell_type": "code",
   "execution_count": 97,
   "id": "forty-netherlands",
   "metadata": {
    "id": "forty-netherlands",
    "scrolled": true
   },
   "outputs": [],
   "source": [
    "top_first_in_cart_products = first_in_cart_counts_df.merge(df_products, on='product_id')\n",
    "top_first_in_cart_products = top_first_in_cart_products[['product_id', 'product_name', 'first_count']]"
   ]
  },
  {
   "cell_type": "code",
   "execution_count": 98,
   "id": "08e41ec2",
   "metadata": {
    "id": "08e41ec2"
   },
   "outputs": [
    {
     "name": "stdout",
     "output_type": "stream",
     "text": [
      "Los 20 principales artículos que la gente pone primero en sus carritos:\n",
      "    product_id                 product_name  first_count\n",
      "0        24852                       Banana        15562\n",
      "1        13176       Bag of Organic Bananas        11026\n",
      "2        27845           Organic Whole Milk         4363\n",
      "3        21137         Organic Strawberries         3946\n",
      "4        47209         Organic Hass Avocado         3390\n",
      "5        21903         Organic Baby Spinach         3336\n",
      "6        47766              Organic Avocado         3044\n",
      "7        19660                 Spring Water         2336\n",
      "8        16797                 Strawberries         2308\n",
      "9        27966          Organic Raspberries         2024\n",
      "10       44632   Sparkling Water Grapefruit         1914\n",
      "11       49235          Organic Half & Half         1797\n",
      "12       47626                  Large Lemon         1737\n",
      "13         196                         Soda         1733\n",
      "14       38689     Organic Reduced Fat Milk         1397\n",
      "15       26209                        Limes         1370\n",
      "16       12341                Hass Avocados         1340\n",
      "17        5785  Organic Reduced Fat 2% Milk         1310\n",
      "18       27086                  Half & Half         1309\n",
      "19       22935         Organic Yellow Onion         1246\n"
     ]
    }
   ],
   "source": [
    "print(\"Los 20 principales artículos que la gente pone primero en sus carritos:\")\n",
    "print(top_first_in_cart_products)"
   ]
  },
  {
   "cell_type": "markdown",
   "id": "28ce9872",
   "metadata": {
    "id": "28ce9872"
   },
   "source": [
    "Escribe aquí tus conclusiones"
   ]
  },
  {
   "cell_type": "markdown",
   "id": "uITbFCEoDosC",
   "metadata": {
    "id": "uITbFCEoDosC"
   },
   "source": [
    "### Conclusion general del proyecto:"
   ]
  },
  {
   "cell_type": "markdown",
   "id": "36bc55f1",
   "metadata": {},
   "source": [
    "Segun los resultados obtenidos se puede concluir lo siguiente:\n",
    "Las horas con mayor movimiento son entre las 10am y las 4pm por lo que cualquier estrategia de promoción o de aumento de demanda tienen que ir segmentadas a esa hora para lograr un mayor alcance y generar una estrategia de promociones en cenas para aumentar el orden de pedidos entre semana, dichas promocones y actividades se tienen que realizar los días Domingo y Lunes, que son los que tienen un mayr numero de pedidos, por lo que se tiene que asegurar que haya la sufiente cantidad de personas para atender estas ordenes los fines de semana por lo que se le puede pagar mas a los vendedores esos dias en especifico, tambien es importante continuar ofreciendo un catalogo amplio de productos organicos ya que son los productos que se encuentran con mayor consumo por lo que se tiene que ampliar el catalogo para ofrecer mas soluciones de este tipo, asi como creear un programa de fidelidad para incrementar el consumo de los clientes ya que 30 dias entre compra es mucho tiempo por lo que se pueden crear promociones semanales y un programa de acomulacion de puntos."
   ]
  }
 ],
 "metadata": {
  "ExecuteTimeLog": [
   {
    "duration": 335,
    "start_time": "2024-07-08T00:35:08.498Z"
   },
   {
    "duration": 472,
    "start_time": "2024-07-08T00:35:24.852Z"
   },
   {
    "duration": 788,
    "start_time": "2024-07-08T00:36:02.170Z"
   },
   {
    "duration": 119,
    "start_time": "2024-07-08T00:37:07.443Z"
   },
   {
    "duration": 449,
    "start_time": "2024-07-08T00:48:08.952Z"
   },
   {
    "duration": 433,
    "start_time": "2024-07-08T00:48:35.763Z"
   },
   {
    "duration": 482,
    "start_time": "2024-07-08T00:48:37.996Z"
   },
   {
    "duration": 4098,
    "start_time": "2024-07-08T00:50:00.902Z"
   },
   {
    "duration": 3812,
    "start_time": "2024-07-08T00:50:06.638Z"
   },
   {
    "duration": 3652,
    "start_time": "2024-07-08T00:53:18.200Z"
   },
   {
    "duration": 339,
    "start_time": "2024-07-08T00:53:49.299Z"
   },
   {
    "duration": 47,
    "start_time": "2024-07-08T00:54:22.834Z"
   },
   {
    "duration": 18,
    "start_time": "2024-07-08T00:55:58.340Z"
   },
   {
    "duration": 12,
    "start_time": "2024-07-08T00:56:58.760Z"
   },
   {
    "duration": 12,
    "start_time": "2024-07-08T00:57:15.455Z"
   },
   {
    "duration": 13,
    "start_time": "2024-07-08T00:57:31.866Z"
   },
   {
    "duration": 719,
    "start_time": "2024-07-08T00:57:46.334Z"
   },
   {
    "duration": 3836,
    "start_time": "2024-07-08T00:57:48.755Z"
   },
   {
    "duration": 52,
    "start_time": "2024-07-08T00:57:52.596Z"
   },
   {
    "duration": 16,
    "start_time": "2024-07-08T00:57:55.107Z"
   },
   {
    "duration": 13,
    "start_time": "2024-07-08T00:57:57.527Z"
   },
   {
    "duration": 14,
    "start_time": "2024-07-08T00:57:59.798Z"
   },
   {
    "duration": 10,
    "start_time": "2024-07-08T00:58:02.183Z"
   },
   {
    "duration": 338,
    "start_time": "2024-07-08T01:40:21.491Z"
   },
   {
    "duration": 495,
    "start_time": "2024-07-08T01:40:27.028Z"
   },
   {
    "duration": 4,
    "start_time": "2024-07-08T01:40:30.033Z"
   },
   {
    "duration": 509,
    "start_time": "2024-07-08T01:40:39.805Z"
   },
   {
    "duration": 4669,
    "start_time": "2024-07-08T01:40:42.323Z"
   },
   {
    "duration": 39,
    "start_time": "2024-07-08T01:40:46.996Z"
   },
   {
    "duration": 31,
    "start_time": "2024-07-08T01:40:47.770Z"
   },
   {
    "duration": 16,
    "start_time": "2024-07-08T01:40:54.250Z"
   },
   {
    "duration": 15,
    "start_time": "2024-07-08T01:40:57.006Z"
   },
   {
    "duration": 16,
    "start_time": "2024-07-08T01:40:59.414Z"
   },
   {
    "duration": 14,
    "start_time": "2024-07-08T01:41:01.263Z"
   },
   {
    "duration": 784,
    "start_time": "2024-07-08T01:41:25.430Z"
   },
   {
    "duration": 516,
    "start_time": "2024-07-08T01:42:26.204Z"
   },
   {
    "duration": 490,
    "start_time": "2024-07-08T01:42:48.441Z"
   },
   {
    "duration": 459,
    "start_time": "2024-07-08T01:43:50.486Z"
   },
   {
    "duration": 461,
    "start_time": "2024-07-08T01:44:04.787Z"
   },
   {
    "duration": 737,
    "start_time": "2024-07-08T01:45:31.230Z"
   },
   {
    "duration": 281,
    "start_time": "2024-07-08T01:46:09.766Z"
   },
   {
    "duration": 291,
    "start_time": "2024-07-08T01:47:05.249Z"
   },
   {
    "duration": 284,
    "start_time": "2024-07-08T01:48:34.300Z"
   },
   {
    "duration": 306,
    "start_time": "2024-07-08T01:51:07.792Z"
   },
   {
    "duration": 295,
    "start_time": "2024-07-08T01:51:18.324Z"
   },
   {
    "duration": 312,
    "start_time": "2024-07-08T01:52:31.243Z"
   },
   {
    "duration": 300,
    "start_time": "2024-07-08T01:52:45.971Z"
   },
   {
    "duration": 366,
    "start_time": "2024-07-08T01:53:06.316Z"
   },
   {
    "duration": 20,
    "start_time": "2024-07-08T01:59:45.117Z"
   },
   {
    "duration": 329,
    "start_time": "2024-07-08T04:08:52.957Z"
   },
   {
    "duration": 21,
    "start_time": "2024-07-08T04:09:21.066Z"
   },
   {
    "duration": 834,
    "start_time": "2024-07-08T04:10:21.400Z"
   },
   {
    "duration": 113,
    "start_time": "2024-07-08T04:11:11.331Z"
   },
   {
    "duration": 105,
    "start_time": "2024-07-08T04:11:28.088Z"
   },
   {
    "duration": 5,
    "start_time": "2024-07-08T04:12:06.665Z"
   },
   {
    "duration": 4,
    "start_time": "2024-07-08T04:12:22.724Z"
   },
   {
    "duration": 183,
    "start_time": "2024-07-08T04:21:42.523Z"
   },
   {
    "duration": 260,
    "start_time": "2024-07-08T04:24:10.089Z"
   },
   {
    "duration": 22,
    "start_time": "2024-07-08T04:26:21.672Z"
   },
   {
    "duration": 465,
    "start_time": "2024-07-08T04:31:04.737Z"
   },
   {
    "duration": 41,
    "start_time": "2024-07-08T04:33:21.567Z"
   },
   {
    "duration": 39,
    "start_time": "2024-07-08T04:33:29.215Z"
   },
   {
    "duration": 5,
    "start_time": "2024-07-08T04:33:45.630Z"
   },
   {
    "duration": 116,
    "start_time": "2024-07-08T04:35:18.956Z"
   },
   {
    "duration": 6,
    "start_time": "2024-07-08T04:35:31.501Z"
   },
   {
    "duration": 4,
    "start_time": "2024-07-08T04:35:34.463Z"
   },
   {
    "duration": 23,
    "start_time": "2024-07-08T04:35:38.695Z"
   },
   {
    "duration": 70,
    "start_time": "2024-07-08T04:36:01.443Z"
   },
   {
    "duration": 1604,
    "start_time": "2024-07-08T04:36:37.363Z"
   },
   {
    "duration": 415,
    "start_time": "2024-07-08T04:36:48.766Z"
   },
   {
    "duration": 1519,
    "start_time": "2024-07-08T04:36:51.015Z"
   },
   {
    "duration": 18,
    "start_time": "2024-07-08T04:36:55.144Z"
   },
   {
    "duration": 17,
    "start_time": "2024-07-08T04:36:57.680Z"
   },
   {
    "duration": 13,
    "start_time": "2024-07-08T04:36:59.771Z"
   },
   {
    "duration": 15,
    "start_time": "2024-07-08T04:37:01.846Z"
   },
   {
    "duration": 14,
    "start_time": "2024-07-08T04:37:03.724Z"
   },
   {
    "duration": 124,
    "start_time": "2024-07-08T04:37:10.622Z"
   },
   {
    "duration": 13,
    "start_time": "2024-07-08T04:37:14.362Z"
   },
   {
    "duration": 117,
    "start_time": "2024-07-08T04:37:16.845Z"
   },
   {
    "duration": 8,
    "start_time": "2024-07-08T04:37:18.872Z"
   },
   {
    "duration": 4,
    "start_time": "2024-07-08T04:37:35.996Z"
   },
   {
    "duration": 114,
    "start_time": "2024-07-08T04:38:02.443Z"
   },
   {
    "duration": 9,
    "start_time": "2024-07-08T04:38:04.501Z"
   },
   {
    "duration": 106,
    "start_time": "2024-07-08T04:38:19.326Z"
   },
   {
    "duration": 5,
    "start_time": "2024-07-08T04:38:23.470Z"
   },
   {
    "duration": 434,
    "start_time": "2024-07-08T04:38:34.940Z"
   },
   {
    "duration": 1484,
    "start_time": "2024-07-08T04:38:37.100Z"
   },
   {
    "duration": 18,
    "start_time": "2024-07-08T04:38:39.867Z"
   },
   {
    "duration": 16,
    "start_time": "2024-07-08T04:38:41.664Z"
   },
   {
    "duration": 14,
    "start_time": "2024-07-08T04:38:43.421Z"
   },
   {
    "duration": 13,
    "start_time": "2024-07-08T04:38:45.610Z"
   },
   {
    "duration": 13,
    "start_time": "2024-07-08T04:38:47.533Z"
   },
   {
    "duration": 120,
    "start_time": "2024-07-08T04:38:50.943Z"
   },
   {
    "duration": 13,
    "start_time": "2024-07-08T04:38:54.727Z"
   },
   {
    "duration": 113,
    "start_time": "2024-07-08T04:38:57.494Z"
   },
   {
    "duration": 103,
    "start_time": "2024-07-08T04:39:00.566Z"
   },
   {
    "duration": 4,
    "start_time": "2024-07-08T04:39:03.158Z"
   },
   {
    "duration": 23,
    "start_time": "2024-07-08T04:39:05.446Z"
   },
   {
    "duration": 64,
    "start_time": "2024-07-08T04:39:07.877Z"
   },
   {
    "duration": 46,
    "start_time": "2024-07-08T04:43:38.346Z"
   },
   {
    "duration": 30,
    "start_time": "2024-07-08T04:44:57.291Z"
   },
   {
    "duration": 6,
    "start_time": "2024-07-08T04:53:43.629Z"
   },
   {
    "duration": 6,
    "start_time": "2024-07-08T04:53:54.418Z"
   },
   {
    "duration": 34,
    "start_time": "2024-07-08T04:54:16.791Z"
   },
   {
    "duration": 6,
    "start_time": "2024-07-08T05:04:55.803Z"
   },
   {
    "duration": 7,
    "start_time": "2024-07-08T05:06:08.037Z"
   },
   {
    "duration": 1563,
    "start_time": "2024-07-08T05:12:12.106Z"
   },
   {
    "duration": 752,
    "start_time": "2024-07-08T05:13:47.446Z"
   },
   {
    "duration": 7,
    "start_time": "2024-07-08T05:14:19.481Z"
   },
   {
    "duration": 10,
    "start_time": "2024-07-08T05:14:45.526Z"
   },
   {
    "duration": 483,
    "start_time": "2024-07-08T05:15:44.159Z"
   },
   {
    "duration": 9,
    "start_time": "2024-07-08T05:17:19.304Z"
   },
   {
    "duration": 7,
    "start_time": "2024-07-08T05:18:59.639Z"
   },
   {
    "duration": 7,
    "start_time": "2024-07-08T05:22:27.020Z"
   },
   {
    "duration": 26,
    "start_time": "2024-07-08T05:24:41.268Z"
   },
   {
    "duration": 98,
    "start_time": "2024-07-08T05:25:32.658Z"
   },
   {
    "duration": 18,
    "start_time": "2024-07-08T05:26:28.352Z"
   },
   {
    "duration": 13,
    "start_time": "2024-07-08T05:27:35.508Z"
   },
   {
    "duration": 53,
    "start_time": "2024-07-08T05:31:11.459Z"
   },
   {
    "duration": 57,
    "start_time": "2024-07-08T05:31:22.829Z"
   },
   {
    "duration": 23,
    "start_time": "2024-07-08T05:32:12.782Z"
   },
   {
    "duration": 35,
    "start_time": "2024-07-08T05:33:11.347Z"
   },
   {
    "duration": 44,
    "start_time": "2024-07-08T05:33:54.067Z"
   },
   {
    "duration": 25,
    "start_time": "2024-07-08T05:36:21.243Z"
   },
   {
    "duration": 10,
    "start_time": "2024-07-08T05:37:08.665Z"
   },
   {
    "duration": 9,
    "start_time": "2024-07-08T05:37:28.573Z"
   },
   {
    "duration": 290,
    "start_time": "2024-07-08T05:41:02.830Z"
   },
   {
    "duration": 312,
    "start_time": "2024-07-09T05:40:43.863Z"
   },
   {
    "duration": 25,
    "start_time": "2024-07-09T05:43:12.436Z"
   },
   {
    "duration": 1383,
    "start_time": "2024-07-09T05:43:47.284Z"
   },
   {
    "duration": 25,
    "start_time": "2024-07-09T05:44:06.327Z"
   },
   {
    "duration": 25,
    "start_time": "2024-07-09T05:44:36.731Z"
   },
   {
    "duration": 470,
    "start_time": "2024-07-09T05:45:13.922Z"
   },
   {
    "duration": 1661,
    "start_time": "2024-07-09T05:45:17.575Z"
   },
   {
    "duration": 21,
    "start_time": "2024-07-09T05:45:21.235Z"
   },
   {
    "duration": 15,
    "start_time": "2024-07-09T05:45:23.828Z"
   },
   {
    "duration": 14,
    "start_time": "2024-07-09T05:45:25.833Z"
   },
   {
    "duration": 15,
    "start_time": "2024-07-09T05:45:27.596Z"
   },
   {
    "duration": 13,
    "start_time": "2024-07-09T05:45:29.748Z"
   },
   {
    "duration": 112,
    "start_time": "2024-07-09T05:45:32.484Z"
   },
   {
    "duration": 38,
    "start_time": "2024-07-09T05:45:36.011Z"
   },
   {
    "duration": 124,
    "start_time": "2024-07-09T05:45:38.498Z"
   },
   {
    "duration": 102,
    "start_time": "2024-07-09T05:45:40.894Z"
   },
   {
    "duration": 5,
    "start_time": "2024-07-09T05:45:43.049Z"
   },
   {
    "duration": 22,
    "start_time": "2024-07-09T05:45:45.228Z"
   },
   {
    "duration": 62,
    "start_time": "2024-07-09T05:45:47.328Z"
   },
   {
    "duration": 53,
    "start_time": "2024-07-09T05:45:50.181Z"
   },
   {
    "duration": 29,
    "start_time": "2024-07-09T05:45:52.494Z"
   },
   {
    "duration": 6,
    "start_time": "2024-07-09T05:45:54.712Z"
   },
   {
    "duration": 6,
    "start_time": "2024-07-09T05:45:56.235Z"
   },
   {
    "duration": 6,
    "start_time": "2024-07-09T05:45:58.470Z"
   },
   {
    "duration": 6,
    "start_time": "2024-07-09T05:46:01.900Z"
   },
   {
    "duration": 1502,
    "start_time": "2024-07-09T05:46:04.869Z"
   },
   {
    "duration": 430,
    "start_time": "2024-07-09T05:46:07.384Z"
   },
   {
    "duration": 8,
    "start_time": "2024-07-09T05:46:11.173Z"
   },
   {
    "duration": 7,
    "start_time": "2024-07-09T05:46:16.209Z"
   },
   {
    "duration": 6,
    "start_time": "2024-07-09T05:46:20.235Z"
   },
   {
    "duration": 346,
    "start_time": "2024-07-09T05:46:28.192Z"
   },
   {
    "duration": 27,
    "start_time": "2024-07-09T05:46:35.585Z"
   },
   {
    "duration": 12,
    "start_time": "2024-07-09T05:46:44.171Z"
   },
   {
    "duration": 50,
    "start_time": "2024-07-09T05:46:46.617Z"
   },
   {
    "duration": 8,
    "start_time": "2024-07-09T05:46:49.452Z"
   },
   {
    "duration": 465,
    "start_time": "2024-07-09T05:46:52.078Z"
   },
   {
    "duration": 27,
    "start_time": "2024-07-09T05:46:55.263Z"
   },
   {
    "duration": 767,
    "start_time": "2024-07-09T05:49:02.105Z"
   },
   {
    "duration": 34,
    "start_time": "2024-07-09T05:49:14.862Z"
   },
   {
    "duration": 34,
    "start_time": "2024-07-09T05:50:06.622Z"
   },
   {
    "duration": 1490,
    "start_time": "2024-07-09T05:51:15.849Z"
   },
   {
    "duration": 1435,
    "start_time": "2024-07-09T05:51:19.428Z"
   },
   {
    "duration": 14,
    "start_time": "2024-07-09T05:51:33.580Z"
   },
   {
    "duration": 17,
    "start_time": "2024-07-09T05:51:47.976Z"
   },
   {
    "duration": 127,
    "start_time": "2024-07-09T05:54:31.382Z"
   },
   {
    "duration": 1564,
    "start_time": "2024-07-09T05:55:00.621Z"
   },
   {
    "duration": 1256,
    "start_time": "2024-07-09T05:55:36.709Z"
   },
   {
    "duration": 1492,
    "start_time": "2024-07-09T05:56:11.511Z"
   },
   {
    "duration": 1289,
    "start_time": "2024-07-09T05:56:27.521Z"
   },
   {
    "duration": 23,
    "start_time": "2024-07-09T05:57:44.013Z"
   },
   {
    "duration": 11,
    "start_time": "2024-07-09T05:58:04.342Z"
   },
   {
    "duration": 12,
    "start_time": "2024-07-09T06:01:45.179Z"
   },
   {
    "duration": 44,
    "start_time": "2024-07-09T06:03:57.814Z"
   },
   {
    "duration": 41,
    "start_time": "2024-07-09T06:04:04.183Z"
   },
   {
    "duration": 316,
    "start_time": "2024-07-09T17:47:58.035Z"
   },
   {
    "duration": 764,
    "start_time": "2024-07-09T17:48:43.145Z"
   },
   {
    "duration": 7,
    "start_time": "2024-07-09T17:49:03.475Z"
   },
   {
    "duration": 0,
    "start_time": "2024-07-09T18:05:21.266Z"
   },
   {
    "duration": 465,
    "start_time": "2024-07-09T18:05:41.692Z"
   },
   {
    "duration": 357,
    "start_time": "2024-07-09T18:06:37.267Z"
   },
   {
    "duration": 392,
    "start_time": "2024-07-09T18:06:45.313Z"
   },
   {
    "duration": 338,
    "start_time": "2024-07-09T18:08:31.422Z"
   },
   {
    "duration": 359,
    "start_time": "2024-07-09T18:08:47.384Z"
   },
   {
    "duration": 239,
    "start_time": "2024-07-09T18:12:27.370Z"
   },
   {
    "duration": 248,
    "start_time": "2024-07-09T18:13:19.854Z"
   },
   {
    "duration": 248,
    "start_time": "2024-07-09T18:13:35.028Z"
   },
   {
    "duration": 230,
    "start_time": "2024-07-09T18:19:59.216Z"
   },
   {
    "duration": 424,
    "start_time": "2024-07-09T18:25:27.372Z"
   },
   {
    "duration": 547,
    "start_time": "2024-07-09T18:26:01.928Z"
   },
   {
    "duration": 438,
    "start_time": "2024-07-09T18:27:53.193Z"
   },
   {
    "duration": 17,
    "start_time": "2024-07-09T18:39:44.852Z"
   },
   {
    "duration": 11,
    "start_time": "2024-07-09T18:39:47.083Z"
   },
   {
    "duration": 318,
    "start_time": "2024-07-09T18:39:49.460Z"
   },
   {
    "duration": 287,
    "start_time": "2024-07-09T18:39:54.076Z"
   },
   {
    "duration": 523,
    "start_time": "2024-07-09T18:40:04.463Z"
   },
   {
    "duration": 9,
    "start_time": "2024-07-09T18:40:52.920Z"
   },
   {
    "duration": 451,
    "start_time": "2024-07-09T18:40:56.706Z"
   },
   {
    "duration": 579,
    "start_time": "2024-07-09T18:41:22.482Z"
   },
   {
    "duration": 15,
    "start_time": "2024-07-09T18:42:50.701Z"
   },
   {
    "duration": 9,
    "start_time": "2024-07-09T18:42:52.408Z"
   },
   {
    "duration": 488,
    "start_time": "2024-07-09T18:42:54.582Z"
   },
   {
    "duration": 18,
    "start_time": "2024-07-09T18:43:27.765Z"
   },
   {
    "duration": 11,
    "start_time": "2024-07-09T18:43:29.229Z"
   },
   {
    "duration": 552,
    "start_time": "2024-07-09T18:43:32.025Z"
   },
   {
    "duration": 14,
    "start_time": "2024-07-09T18:43:40.227Z"
   },
   {
    "duration": 8,
    "start_time": "2024-07-09T18:43:41.972Z"
   },
   {
    "duration": 504,
    "start_time": "2024-07-09T18:43:44.227Z"
   },
   {
    "duration": 28,
    "start_time": "2024-07-09T18:56:29.586Z"
   },
   {
    "duration": 463,
    "start_time": "2024-07-09T18:56:31.499Z"
   },
   {
    "duration": 475,
    "start_time": "2024-07-09T18:58:05.030Z"
   },
   {
    "duration": 519,
    "start_time": "2024-07-09T18:59:22.821Z"
   },
   {
    "duration": 27,
    "start_time": "2024-07-09T19:00:56.477Z"
   },
   {
    "duration": 623,
    "start_time": "2024-07-09T19:00:56.508Z"
   },
   {
    "duration": 631,
    "start_time": "2024-07-09T19:01:08.289Z"
   },
   {
    "duration": 607,
    "start_time": "2024-07-09T19:01:14.871Z"
   },
   {
    "duration": 652,
    "start_time": "2024-07-09T19:02:22.134Z"
   },
   {
    "duration": 684,
    "start_time": "2024-07-09T19:02:29.535Z"
   },
   {
    "duration": 608,
    "start_time": "2024-07-09T19:02:38.551Z"
   },
   {
    "duration": 636,
    "start_time": "2024-07-09T19:04:01.951Z"
   },
   {
    "duration": 620,
    "start_time": "2024-07-09T19:04:07.504Z"
   },
   {
    "duration": 600,
    "start_time": "2024-07-09T19:04:15.018Z"
   },
   {
    "duration": 611,
    "start_time": "2024-07-09T19:04:27.755Z"
   },
   {
    "duration": 702,
    "start_time": "2024-07-09T19:06:07.745Z"
   },
   {
    "duration": 570,
    "start_time": "2024-07-09T19:08:12.708Z"
   },
   {
    "duration": 621,
    "start_time": "2024-07-09T19:09:32.342Z"
   },
   {
    "duration": 569,
    "start_time": "2024-07-09T19:11:56.127Z"
   },
   {
    "duration": 578,
    "start_time": "2024-07-09T19:12:06.559Z"
   },
   {
    "duration": 666,
    "start_time": "2024-07-09T19:12:14.986Z"
   },
   {
    "duration": 23,
    "start_time": "2024-07-09T19:22:58.180Z"
   },
   {
    "duration": 371,
    "start_time": "2024-07-09T19:24:25.274Z"
   },
   {
    "duration": 229,
    "start_time": "2024-07-09T19:24:55.177Z"
   },
   {
    "duration": 25,
    "start_time": "2024-07-09T19:24:56.864Z"
   },
   {
    "duration": 21,
    "start_time": "2024-07-09T19:24:59.535Z"
   },
   {
    "duration": 1820,
    "start_time": "2024-07-09T19:26:31.081Z"
   },
   {
    "duration": 758,
    "start_time": "2024-07-09T19:26:32.904Z"
   },
   {
    "duration": 23,
    "start_time": "2024-07-09T19:26:37.382Z"
   },
   {
    "duration": 1323,
    "start_time": "2024-07-09T19:27:12.171Z"
   },
   {
    "duration": 225,
    "start_time": "2024-07-09T19:27:13.686Z"
   },
   {
    "duration": 28,
    "start_time": "2024-07-09T19:27:17.676Z"
   },
   {
    "duration": 1459,
    "start_time": "2024-07-09T19:29:18.321Z"
   },
   {
    "duration": 248,
    "start_time": "2024-07-09T19:29:19.825Z"
   },
   {
    "duration": 22,
    "start_time": "2024-07-09T19:29:24.870Z"
   },
   {
    "duration": 485,
    "start_time": "2024-07-09T20:33:00.376Z"
   },
   {
    "duration": 1704,
    "start_time": "2024-07-09T20:33:03.009Z"
   },
   {
    "duration": 18,
    "start_time": "2024-07-09T20:33:06.526Z"
   },
   {
    "duration": 16,
    "start_time": "2024-07-09T20:33:10.974Z"
   },
   {
    "duration": 15,
    "start_time": "2024-07-09T20:33:13.312Z"
   },
   {
    "duration": 15,
    "start_time": "2024-07-09T20:33:15.315Z"
   },
   {
    "duration": 11,
    "start_time": "2024-07-09T20:33:17.263Z"
   },
   {
    "duration": 114,
    "start_time": "2024-07-09T20:33:20.845Z"
   },
   {
    "duration": 19,
    "start_time": "2024-07-09T20:33:28.117Z"
   },
   {
    "duration": 121,
    "start_time": "2024-07-09T20:33:31.062Z"
   },
   {
    "duration": 121,
    "start_time": "2024-07-09T20:33:34.070Z"
   },
   {
    "duration": 4,
    "start_time": "2024-07-09T20:33:37.031Z"
   },
   {
    "duration": 26,
    "start_time": "2024-07-09T20:33:39.684Z"
   },
   {
    "duration": 70,
    "start_time": "2024-07-09T20:33:41.936Z"
   },
   {
    "duration": 49,
    "start_time": "2024-07-09T20:33:45.240Z"
   },
   {
    "duration": 34,
    "start_time": "2024-07-09T20:33:47.670Z"
   },
   {
    "duration": 6,
    "start_time": "2024-07-09T20:33:50.325Z"
   },
   {
    "duration": 6,
    "start_time": "2024-07-09T20:33:51.915Z"
   },
   {
    "duration": 348,
    "start_time": "2024-07-09T20:33:54.370Z"
   },
   {
    "duration": 23,
    "start_time": "2024-07-09T20:34:07.031Z"
   },
   {
    "duration": 8,
    "start_time": "2024-07-09T20:34:33.334Z"
   },
   {
    "duration": 32,
    "start_time": "2024-07-09T20:34:35.538Z"
   },
   {
    "duration": 7,
    "start_time": "2024-07-09T20:34:51.867Z"
   },
   {
    "duration": 1696,
    "start_time": "2024-07-09T20:34:55.373Z"
   },
   {
    "duration": 446,
    "start_time": "2024-07-09T20:34:59.101Z"
   },
   {
    "duration": 9,
    "start_time": "2024-07-09T20:35:03.187Z"
   },
   {
    "duration": 8,
    "start_time": "2024-07-09T20:35:07.342Z"
   },
   {
    "duration": 9,
    "start_time": "2024-07-09T20:35:13.778Z"
   },
   {
    "duration": 17,
    "start_time": "2024-07-09T20:35:19.298Z"
   },
   {
    "duration": 55,
    "start_time": "2024-07-09T20:35:24.165Z"
   },
   {
    "duration": 12,
    "start_time": "2024-07-09T20:35:28.674Z"
   },
   {
    "duration": 299,
    "start_time": "2024-07-09T20:35:31.218Z"
   },
   {
    "duration": 1362,
    "start_time": "2024-07-09T20:35:33.547Z"
   },
   {
    "duration": 1648,
    "start_time": "2024-07-09T20:36:32.306Z"
   },
   {
    "duration": 2082,
    "start_time": "2024-07-09T20:37:01.880Z"
   },
   {
    "duration": 1291,
    "start_time": "2024-07-09T20:39:53.425Z"
   },
   {
    "duration": 818,
    "start_time": "2024-07-09T20:39:58.930Z"
   },
   {
    "duration": 710,
    "start_time": "2024-07-09T20:40:33.801Z"
   },
   {
    "duration": 464,
    "start_time": "2024-07-09T20:41:05.713Z"
   },
   {
    "duration": 1540,
    "start_time": "2024-07-09T20:41:07.855Z"
   },
   {
    "duration": 17,
    "start_time": "2024-07-09T20:41:10.959Z"
   },
   {
    "duration": 16,
    "start_time": "2024-07-09T20:41:13.343Z"
   },
   {
    "duration": 14,
    "start_time": "2024-07-09T20:41:15.749Z"
   },
   {
    "duration": 18,
    "start_time": "2024-07-09T20:41:18.017Z"
   },
   {
    "duration": 16,
    "start_time": "2024-07-09T20:41:19.901Z"
   },
   {
    "duration": 118,
    "start_time": "2024-07-09T20:41:23.403Z"
   },
   {
    "duration": 18,
    "start_time": "2024-07-09T20:41:26.616Z"
   },
   {
    "duration": 131,
    "start_time": "2024-07-09T20:41:29.142Z"
   },
   {
    "duration": 130,
    "start_time": "2024-07-09T20:41:31.448Z"
   },
   {
    "duration": 4,
    "start_time": "2024-07-09T20:41:33.698Z"
   },
   {
    "duration": 24,
    "start_time": "2024-07-09T20:41:36.383Z"
   },
   {
    "duration": 76,
    "start_time": "2024-07-09T20:41:41.372Z"
   },
   {
    "duration": 45,
    "start_time": "2024-07-09T20:41:44.342Z"
   },
   {
    "duration": 30,
    "start_time": "2024-07-09T20:41:47.082Z"
   },
   {
    "duration": 7,
    "start_time": "2024-07-09T20:41:49.393Z"
   },
   {
    "duration": 19,
    "start_time": "2024-07-09T20:41:52.812Z"
   },
   {
    "duration": 6,
    "start_time": "2024-07-09T20:41:54.859Z"
   },
   {
    "duration": 7,
    "start_time": "2024-07-09T20:41:56.651Z"
   },
   {
    "duration": 1571,
    "start_time": "2024-07-09T20:41:58.858Z"
   },
   {
    "duration": 405,
    "start_time": "2024-07-09T20:42:02.012Z"
   },
   {
    "duration": 9,
    "start_time": "2024-07-09T20:42:05.017Z"
   },
   {
    "duration": 8,
    "start_time": "2024-07-09T20:42:11.424Z"
   },
   {
    "duration": 7,
    "start_time": "2024-07-09T20:42:18.808Z"
   },
   {
    "duration": 19,
    "start_time": "2024-07-09T20:42:22.664Z"
   },
   {
    "duration": 13,
    "start_time": "2024-07-09T20:42:24.837Z"
   },
   {
    "duration": 58,
    "start_time": "2024-07-09T20:42:26.696Z"
   },
   {
    "duration": 11,
    "start_time": "2024-07-09T20:42:28.437Z"
   },
   {
    "duration": 296,
    "start_time": "2024-07-09T20:42:31.265Z"
   },
   {
    "duration": 2032,
    "start_time": "2024-07-09T20:42:34.304Z"
   },
   {
    "duration": 25,
    "start_time": "2024-07-09T20:42:40.143Z"
   },
   {
    "duration": 13,
    "start_time": "2024-07-09T20:42:43.161Z"
   },
   {
    "duration": 43,
    "start_time": "2024-07-09T20:42:45.474Z"
   },
   {
    "duration": 200,
    "start_time": "2024-07-09T20:42:48.849Z"
   },
   {
    "duration": 7,
    "start_time": "2024-07-09T20:42:51.461Z"
   },
   {
    "duration": 4497,
    "start_time": "2024-07-09T20:42:53.870Z"
   },
   {
    "duration": 283,
    "start_time": "2024-07-09T20:43:01.493Z"
   },
   {
    "duration": 452,
    "start_time": "2024-07-09T20:43:07.245Z"
   },
   {
    "duration": 18,
    "start_time": "2024-07-09T20:43:11.205Z"
   },
   {
    "duration": 8,
    "start_time": "2024-07-09T20:43:12.720Z"
   },
   {
    "duration": 525,
    "start_time": "2024-07-09T20:43:14.544Z"
   },
   {
    "duration": 28,
    "start_time": "2024-07-09T20:43:21.015Z"
   },
   {
    "duration": 622,
    "start_time": "2024-07-09T20:43:23.178Z"
   },
   {
    "duration": 1151,
    "start_time": "2024-07-09T20:43:27.932Z"
   },
   {
    "duration": 59,
    "start_time": "2024-07-09T20:51:07.375Z"
   },
   {
    "duration": 62,
    "start_time": "2024-07-09T20:56:40.831Z"
   },
   {
    "duration": 68,
    "start_time": "2024-07-09T20:56:51.932Z"
   },
   {
    "duration": 66,
    "start_time": "2024-07-09T20:57:01.759Z"
   },
   {
    "duration": 72,
    "start_time": "2024-07-09T20:57:11.291Z"
   },
   {
    "duration": 70,
    "start_time": "2024-07-09T20:57:17.698Z"
   },
   {
    "duration": 492,
    "start_time": "2024-07-09T21:01:38.817Z"
   },
   {
    "duration": 184,
    "start_time": "2024-07-09T21:02:19.081Z"
   },
   {
    "duration": 1320,
    "start_time": "2024-07-09T21:02:47.405Z"
   },
   {
    "duration": 406,
    "start_time": "2024-07-09T21:04:32.847Z"
   },
   {
    "duration": 130,
    "start_time": "2024-07-09T21:06:07.894Z"
   },
   {
    "duration": 209,
    "start_time": "2024-07-09T21:06:20.646Z"
   },
   {
    "duration": 182,
    "start_time": "2024-07-09T21:07:06.098Z"
   },
   {
    "duration": 470,
    "start_time": "2024-07-09T21:08:50.630Z"
   },
   {
    "duration": 493,
    "start_time": "2024-07-09T21:09:42.626Z"
   },
   {
    "duration": 521,
    "start_time": "2024-07-09T21:10:19.773Z"
   },
   {
    "duration": 444,
    "start_time": "2024-07-09T21:10:35.010Z"
   },
   {
    "duration": 448,
    "start_time": "2024-07-09T21:10:48.937Z"
   },
   {
    "duration": 461,
    "start_time": "2024-07-09T21:10:58.384Z"
   },
   {
    "duration": 431,
    "start_time": "2024-07-09T21:11:24.538Z"
   },
   {
    "duration": 445,
    "start_time": "2024-07-09T21:11:35.802Z"
   },
   {
    "duration": 437,
    "start_time": "2024-07-09T21:11:48.005Z"
   },
   {
    "duration": 491,
    "start_time": "2024-07-09T21:12:01.930Z"
   },
   {
    "duration": 666,
    "start_time": "2024-07-09T21:12:37.112Z"
   },
   {
    "duration": 683,
    "start_time": "2024-07-09T21:12:48.889Z"
   },
   {
    "duration": 834,
    "start_time": "2024-07-09T21:12:53.994Z"
   },
   {
    "duration": 737,
    "start_time": "2024-07-09T21:12:58.388Z"
   },
   {
    "duration": 699,
    "start_time": "2024-07-09T21:13:02.286Z"
   },
   {
    "duration": 11,
    "start_time": "2024-07-09T21:14:12.131Z"
   },
   {
    "duration": 481,
    "start_time": "2024-07-09T21:14:38.391Z"
   },
   {
    "duration": 468,
    "start_time": "2024-07-09T21:15:24.753Z"
   },
   {
    "duration": 452,
    "start_time": "2024-07-09T21:15:36.870Z"
   },
   {
    "duration": 132,
    "start_time": "2024-07-09T21:23:30.543Z"
   },
   {
    "duration": 576,
    "start_time": "2024-07-09T21:23:37.380Z"
   },
   {
    "duration": 343,
    "start_time": "2024-07-09T21:23:43.890Z"
   },
   {
    "duration": 23,
    "start_time": "2024-07-09T21:23:56.341Z"
   },
   {
    "duration": 6,
    "start_time": "2024-07-09T21:24:52.755Z"
   },
   {
    "duration": 187,
    "start_time": "2024-07-09T21:25:49.021Z"
   },
   {
    "duration": 224,
    "start_time": "2024-07-09T21:25:50.499Z"
   },
   {
    "duration": 5,
    "start_time": "2024-07-09T21:26:02.395Z"
   },
   {
    "duration": 16,
    "start_time": "2024-07-09T21:26:04.266Z"
   },
   {
    "duration": 8,
    "start_time": "2024-07-09T21:26:05.974Z"
   },
   {
    "duration": 162,
    "start_time": "2024-07-09T21:28:14.980Z"
   },
   {
    "duration": 35,
    "start_time": "2024-07-09T21:28:16.748Z"
   },
   {
    "duration": 9,
    "start_time": "2024-07-09T21:28:18.611Z"
   },
   {
    "duration": 459,
    "start_time": "2024-07-09T21:30:31.103Z"
   },
   {
    "duration": 61,
    "start_time": "2024-07-09T21:30:32.484Z"
   },
   {
    "duration": 11,
    "start_time": "2024-07-09T21:30:33.867Z"
   },
   {
    "duration": 664,
    "start_time": "2024-07-09T21:31:25.442Z"
   },
   {
    "duration": 28,
    "start_time": "2024-07-09T21:31:34.564Z"
   },
   {
    "duration": 56,
    "start_time": "2024-07-09T21:32:29.615Z"
   },
   {
    "duration": 17,
    "start_time": "2024-07-09T21:32:30.958Z"
   },
   {
    "duration": 7,
    "start_time": "2024-07-09T21:32:32.660Z"
   },
   {
    "duration": 8,
    "start_time": "2024-07-09T21:35:25.128Z"
   },
   {
    "duration": 80,
    "start_time": "2024-07-09T21:35:29.846Z"
   },
   {
    "duration": 1970,
    "start_time": "2024-07-09T21:37:13.788Z"
   },
   {
    "duration": 21,
    "start_time": "2024-07-09T21:37:20.796Z"
   },
   {
    "duration": 2106,
    "start_time": "2024-07-09T21:38:39.946Z"
   },
   {
    "duration": 487,
    "start_time": "2024-07-09T21:38:45.106Z"
   }
  ],
  "colab": {
   "provenance": []
  },
  "kernelspec": {
   "display_name": "Python 3 (ipykernel)",
   "language": "python",
   "name": "python3"
  },
  "language_info": {
   "codemirror_mode": {
    "name": "ipython",
    "version": 3
   },
   "file_extension": ".py",
   "mimetype": "text/x-python",
   "name": "python",
   "nbconvert_exporter": "python",
   "pygments_lexer": "ipython3",
   "version": "3.9.19"
  },
  "toc": {
   "base_numbering": 1,
   "nav_menu": {},
   "number_sections": true,
   "sideBar": true,
   "skip_h1_title": true,
   "title_cell": "Table of Contents",
   "title_sidebar": "Contents",
   "toc_cell": false,
   "toc_position": {},
   "toc_section_display": true,
   "toc_window_display": false
  },
  "vscode": {
   "interpreter": {
    "hash": "01a7be9ec63e704a62cefc5fe7a4756944464ee731be31632bdf42a4cb4688cf"
   }
  }
 },
 "nbformat": 4,
 "nbformat_minor": 5
}
